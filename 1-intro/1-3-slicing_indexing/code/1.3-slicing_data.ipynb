{
 "cells": [
  {
   "cell_type": "markdown",
   "metadata": {},
   "source": [
    "# 1.3. Segmentación e indexación de datos\n",
    "\n",
    "## Índices explícitos\n",
    "\n",
    "### Configuración y eliminación de índices\n",
    "\n",
    "Pandas permite designar columnas como un *índice*. Esto facilita un código más limpio al tomar subconjuntos (además de proporcionar una búsqueda más eficiente en algunas circunstancias)."
   ]
  },
  {
   "cell_type": "code",
   "execution_count": 1,
   "metadata": {},
   "outputs": [],
   "source": [
    "import pandas as pd"
   ]
  },
  {
   "cell_type": "code",
   "execution_count": null,
   "metadata": {},
   "outputs": [],
   "source": [
    "temperatures = pd.read_csv('../../../datasets/temperatures.csv')\n",
    "\n",
    "temperatures.head()"
   ]
  },
  {
   "cell_type": "code",
   "execution_count": null,
   "metadata": {},
   "outputs": [],
   "source": [
    "temperatures.shape"
   ]
  },
  {
   "cell_type": "code",
   "execution_count": null,
   "metadata": {},
   "outputs": [],
   "source": [
    "print(temperatures)"
   ]
  },
  {
   "cell_type": "markdown",
   "metadata": {},
   "source": [
    "**Instrucciones**\n",
    "\n",
    "- Establece el índice de `temperatures` en `\"city\"`, asignándolo a `temperatures_ind`.\n",
    "- *Observa `temperatures_ind`. ¿En qué se diferencia de `temperatures`?*"
   ]
  },
  {
   "cell_type": "code",
   "execution_count": 5,
   "metadata": {},
   "outputs": [],
   "source": [
    "temperatures_ind = (\n",
    "    temperatures\n",
    "    .set_index(\"city\")\n",
    ")"
   ]
  },
  {
   "cell_type": "code",
   "execution_count": null,
   "metadata": {},
   "outputs": [],
   "source": [
    "print(temperatures_ind)"
   ]
  },
  {
   "cell_type": "markdown",
   "metadata": {},
   "source": [
    "- Restablece el índice de `temperatures_ind`, conservando su contenido."
   ]
  },
  {
   "cell_type": "code",
   "execution_count": null,
   "metadata": {},
   "outputs": [],
   "source": [
    "print(\n",
    "    temperatures_ind\n",
    "    .reset_index()\n",
    ")"
   ]
  },
  {
   "cell_type": "markdown",
   "metadata": {},
   "source": [
    "- Restablece el índice de `temperatures_ind`, eliminando su contenido."
   ]
  },
  {
   "cell_type": "code",
   "execution_count": null,
   "metadata": {},
   "outputs": [],
   "source": [
    "print(\n",
    "    temperatures_ind\n",
    "    .reset_index(drop=True)\n",
    ")"
   ]
  },
  {
   "cell_type": "markdown",
   "metadata": {},
   "source": [
    "## Subconjuntos con .loc[]\n",
    "\n",
    "La característica más potente de los índices es `.loc[]`: un método de subsetting que acepta valores de índice. Cuando le pasas un solo argumento, tomará un subconjunto de filas.\n",
    "\n",
    "El código para hacer subsetting con `.loc[]` puede ser más fácil de leer que el subsetting con corchetes `[]` estándar, lo que hace que tu código sea más fácil de mantener."
   ]
  },
  {
   "cell_type": "markdown",
   "metadata": {},
   "source": [
    "**Instrucciones**\n",
    "\n",
    "- Crea una lista llamada `cities` que contenga `\"Moscow\"` y `\"Saint Petersburg\"`.\n",
    "- Usa el subsetting con `[]` para filtrar `temperatures` por filas donde la columna `city` tome un valor dentro de la lista `cities`.\n"
   ]
  },
  {
   "cell_type": "code",
   "execution_count": null,
   "metadata": {},
   "outputs": [],
   "source": [
    "cities = [\"Moscow\", \"Saint Petersburg\"]\n",
    "\n",
    "print(\n",
    "    temperatures[temperatures[\"city\"]\n",
    "                 .isin(cities)]\n",
    "    )\n"
   ]
  },
  {
   "cell_type": "markdown",
   "metadata": {},
   "source": [
    "- Usa el subsetting con `.loc[]` para filtrar `temperatures_ind` por filas donde la ciudad esté en la lista `cities`."
   ]
  },
  {
   "cell_type": "code",
   "execution_count": 12,
   "metadata": {},
   "outputs": [],
   "source": [
    "temperatures_ind = (\n",
    "    temperatures\n",
    "    .set_index(\"city\")\n",
    ")"
   ]
  },
  {
   "cell_type": "code",
   "execution_count": null,
   "metadata": {},
   "outputs": [],
   "source": [
    "print(temperatures_ind.loc[cities])"
   ]
  },
  {
   "cell_type": "markdown",
   "metadata": {},
   "source": [
    "### Configuración de índices multinivel\n",
    "\n",
    "Los índices también pueden estar formados por múltiples columnas, creando un *índice multinivel* (a veces llamado *índice jerárquico*). Esto tiene ventajas y desventajas.\n",
    "\n",
    "El beneficio es que los índices multinivel hacen que sea más natural razonar sobre variables categóricas anidadas. Por ejemplo, en un ensayo clínico, podrías tener grupos de control y tratamiento. Cada sujeto de prueba pertenece a uno de estos grupos, y podemos decir que un sujeto está anidado dentro del grupo de tratamiento. De manera similar, en el conjunto de datos de temperaturas, una ciudad se encuentra dentro de un país, por lo que podemos decir que una ciudad está anidada dentro del país.\n",
    "\n",
    "La principal desventaja es que el código para manipular índices es diferente del código para manipular columnas, por lo que debes aprender dos sintaxis y llevar un control de cómo están representados los datos.\n",
    "\n",
    "**Instrucciones**\n",
    "\n",
    "- Establece el índice de `temperatures` en las columnas `\"country\"` y `\"city\"`, y asígnalo a `temperatures_ind`.\n",
    "- Especifica dos pares de país/ciudad a mantener: `\"Brazil\"`/`\"Rio De Janeiro\"` y `\"Pakistan\"`/`\"Lahore\"`, asignándolos a `rows_to_keep`.\n",
    "- Imprime y obtén un subconjunto de `temperatures_ind` para `rows_to_keep` utilizando `.loc[]`."
   ]
  },
  {
   "cell_type": "code",
   "execution_count": null,
   "metadata": {},
   "outputs": [],
   "source": [
    "temperatures_ind = (\n",
    "    temperatures\n",
    "    .set_index([\"country\", \"city\"])\n",
    ")\n",
    "\n",
    "rows_to_keep = [\n",
    "    (\"Brazil\", \"Rio De Janeiro\"),\n",
    "    (\"Pakistan\", \"Lahore\")\n",
    "]\n",
    "\n",
    "print(\n",
    "    temperatures_ind\n",
    "    .loc[rows_to_keep]\n",
    ")"
   ]
  },
  {
   "cell_type": "markdown",
   "metadata": {},
   "source": [
    "### Ordenando por valores de índice\n",
    "\n",
    "Anteriormente, cambiaste el orden de las filas en un DataFrame utilizando `.sort_values()`. También es útil poder ordenar por los elementos en el índice. Para esto, debes usar `.sort_index()`.\n",
    "\n",
    "**Instrucciones**\n",
    "\n",
    "- Ordena `temperatures_ind` por los valores del índice.\n"
   ]
  },
  {
   "cell_type": "code",
   "execution_count": null,
   "metadata": {},
   "outputs": [],
   "source": [
    "print(temperatures_ind.sort_index())\n"
   ]
  },
  {
   "cell_type": "markdown",
   "metadata": {},
   "source": [
    "- Ordena `temperatures_ind` por los valores del índice en el nivel `\"city\"`.\n"
   ]
  },
  {
   "cell_type": "code",
   "execution_count": null,
   "metadata": {},
   "outputs": [],
   "source": [
    "print(temperatures_ind.sort_index(level=\"city\"))\n"
   ]
  },
  {
   "cell_type": "markdown",
   "metadata": {},
   "source": [
    "- Ordena `temperatures_ind` primero en orden ascendente por `country` y luego en orden descendente por `city`."
   ]
  },
  {
   "cell_type": "code",
   "execution_count": null,
   "metadata": {},
   "outputs": [],
   "source": [
    "print(\n",
    "    temperatures_ind\n",
    "    .sort_index(\n",
    "        level=[\"country\", \"city\"], \n",
    "        ascending=[True, False]\n",
    "    )\n",
    ")"
   ]
  },
  {
   "cell_type": "markdown",
   "metadata": {},
   "source": [
    "## Corte y subsetting con `.loc` y `.iloc`\n",
    "\n",
    "### Corte de valores de índice\n",
    "\n",
    "El corte (*slicing*) te permite seleccionar elementos consecutivos de un objeto utilizando la sintaxis `primero:último`. Los DataFrames pueden cortarse por valores de índice o por número de fila/columna; comenzaremos con el primer caso. Esto implica realizar el corte dentro del método `.loc[]`.\n",
    "\n",
    "En comparación con el corte de listas, hay algunos puntos a recordar:\n",
    "\n",
    "- Solo puedes cortar un índice si el índice está ordenado (usando `.sort_index()`).\n",
    "- Para cortar en el nivel exterior, `primero` y `último` pueden ser cadenas de texto.\n",
    "- Para cortar en niveles internos, `primero` y `último` deben ser tuplas.\n",
    "- Si pasas un solo rango a `.loc[]`, este cortará las filas.\n",
    "\n",
    "**Instrucciones**\n",
    "\n",
    "- Ordena el índice de `temperatures_ind`.\n",
    "- Usa corte con `.loc[]` para obtener estos subconjuntos:\n",
    "    - Desde `Pakistan` hasta `Russia`.\n"
   ]
  },
  {
   "cell_type": "code",
   "execution_count": null,
   "metadata": {},
   "outputs": [],
   "source": [
    "temperatures_srt = temperatures_ind.sort_index()\n",
    "\n",
    "print(temperatures_srt.loc[\"Pakistan\":\"Russia\"])"
   ]
  },
  {
   "cell_type": "markdown",
   "metadata": {},
   "source": [
    "- Desde `Lahore` hasta `Moscow`. (*Esto devolverá un resultado sin sentido.*)\n",
    " "
   ]
  },
  {
   "cell_type": "code",
   "execution_count": null,
   "metadata": {},
   "outputs": [],
   "source": [
    "print(temperatures_srt.loc[\"Lahore\":\"Moscow\"])"
   ]
  },
  {
   "cell_type": "markdown",
   "metadata": {},
   "source": [
    "   - Desde `Pakistan, Lahore` hasta `Russia, Moscow`."
   ]
  },
  {
   "cell_type": "code",
   "execution_count": null,
   "metadata": {},
   "outputs": [],
   "source": [
    "print(temperatures_srt.loc[(\"Pakistan\", \"Lahore\"): (\"Russia\", \"Moscow\")])"
   ]
  },
  {
   "cell_type": "markdown",
   "metadata": {},
   "source": [
    "### Corte en ambas direcciones\n",
    "\n",
    "Has visto cómo cortar DataFrames por filas y por columnas, pero dado que los DataFrames son objetos bidimensionales, a menudo es natural cortar ambas dimensiones al mismo tiempo. Es decir, pasando dos argumentos a `.loc[]`, puedes obtener un subconjunto de filas y columnas en una sola operación.\n",
    "\n",
    "`pandas` está cargado como `pd`. `temperatures_srt` está indexado por `country` y `city`, tiene un índice ordenado y está disponible.\n",
    "\n",
    "**Instrucciones**\n",
    "\n",
    "- Usa corte con `.loc[]` para obtener un subconjunto de filas desde `India, Hyderabad` hasta `Iraq, Baghdad`.\n"
   ]
  },
  {
   "cell_type": "code",
   "execution_count": null,
   "metadata": {},
   "outputs": [],
   "source": [
    "print(\n",
    "    temperatures_srt\n",
    "    .loc[\n",
    "        (\"India\", \"Hyderabad\"): (\"Iraq\", \"Baghdad\")\n",
    "    ]\n",
    ")\n"
   ]
  },
  {
   "cell_type": "markdown",
   "metadata": {},
   "source": [
    "- Usa corte con `.loc[]` para obtener un subconjunto de columnas desde `date` hasta `avg_temp_c`.\n"
   ]
  },
  {
   "cell_type": "code",
   "execution_count": null,
   "metadata": {},
   "outputs": [],
   "source": [
    "print(\n",
    "    temperatures_srt\n",
    "    .loc[\n",
    "        :, \"date\":\"avg_temp_c\"\n",
    "    ]\n",
    ")"
   ]
  },
  {
   "cell_type": "markdown",
   "metadata": {},
   "source": [
    "- Realiza un corte en ambas direcciones a la vez, desde `Hyderabad` hasta `Baghdad`, y desde `date` hasta `avg_temp_c`."
   ]
  },
  {
   "cell_type": "code",
   "execution_count": null,
   "metadata": {},
   "outputs": [],
   "source": [
    "print(\n",
    "    temperatures_srt\n",
    "    .loc[\n",
    "        (\"India\", \"Hyderabad\"): (\"Iraq\", \"Baghdad\"),\n",
    "          \"date\":\"avg_temp_c\"\n",
    "    ]\n",
    ")"
   ]
  },
  {
   "cell_type": "markdown",
   "metadata": {},
   "source": [
    "### Corte de series temporales\n",
    "\n",
    "El corte (*slicing*) es especialmente útil para series temporales, ya que es común querer filtrar datos dentro de un rango de fechas. Para ello, agrega la columna `date` al índice y luego usa `.loc[]` para realizar el subsetting. Lo más importante es asegurarte de que tus fechas estén en formato ISO 8601, es decir:\n",
    "\n",
    "- `\"yyyy-mm-dd\"` para año-mes-día,\n",
    "- `\"yyyy-mm\"` para año-mes,\n",
    "- `\"yyyy\"` para año.\n",
    "\n",
    "Recuerda de 1.1 que puedes combinar múltiples condiciones booleanas utilizando operadores lógicos, como `&`. Para hacerlo en una sola línea de código, es necesario agregar paréntesis `()` alrededor de cada condición.\n",
    "\n",
    "**Instrucciones**\n",
    "\n",
    "- Usa condiciones booleanas, no `.isin()` ni `.loc[]`, y la fecha completa en formato `\"yyyy-mm-dd\"`, para obtener un subconjunto de `temperatures` con filas donde la columna `date` esté en los años 2010 y 2011, e imprime los resultados.\n"
   ]
  },
  {
   "cell_type": "code",
   "execution_count": null,
   "metadata": {},
   "outputs": [],
   "source": [
    "temperatures_bool = temperatures[(temperatures[\"date\"] >= \"2010-01-01\") & (temperatures[\"date\"] <= \"2011-12-31\")]\n",
    "print(temperatures_bool)"
   ]
  },
  {
   "cell_type": "markdown",
   "metadata": {},
   "source": [
    "- Establece el índice de `temperatures` en la columna `date` y ordénalo."
   ]
  },
  {
   "cell_type": "code",
   "execution_count": 26,
   "metadata": {},
   "outputs": [],
   "source": [
    "temperatures_ind = (\n",
    "    temperatures\n",
    "    .set_index(\"date\")\n",
    "    .sort_index()\n",
    ")"
   ]
  },
  {
   "cell_type": "markdown",
   "metadata": {},
   "source": [
    "- Usa `.loc[]` para obtener un subconjunto de `temperatures_ind` con filas en los años 2010 y 2011."
   ]
  },
  {
   "cell_type": "code",
   "execution_count": null,
   "metadata": {},
   "outputs": [],
   "source": [
    "print(\n",
    "    temperatures_ind\n",
    "    .loc[\"2010-01-01\":\"2011-12-31\"]\n",
    ")"
   ]
  },
  {
   "cell_type": "markdown",
   "metadata": {},
   "source": [
    "- Usa `.loc[]` para obtener un subconjunto de `temperatures_ind` con filas desde agosto de 2010 hasta febrero de 2011."
   ]
  },
  {
   "cell_type": "code",
   "execution_count": null,
   "metadata": {},
   "outputs": [],
   "source": [
    "print(\n",
    "    temperatures_ind\n",
    "    .loc[\n",
    "        \"2010-08-01\":\"2011-02-29\"\n",
    "    ]\n",
    ")"
   ]
  },
  {
   "cell_type": "markdown",
   "metadata": {},
   "source": [
    "### Subsetting por número de fila/columna\n",
    "\n",
    "Las formas más comunes de obtener subconjuntos de filas son las que hemos visto anteriormente: usando una condición booleana o mediante etiquetas de índice. Sin embargo, en algunas ocasiones también es útil seleccionar filas por su número de posición.\n",
    "\n",
    "Para esto, se usa `.iloc[]`, y al igual que `.loc[]`, puede aceptar dos argumentos para permitir el subsetting tanto por filas como por columnas.\n",
    "\n",
    "`pandas` está cargado como `pd`. `temperatures` (sin índice) está disponible.\n",
    "\n",
    "**Instrucciones**\n",
    "\n",
    "Usa `.iloc[]` en `temperatures` para obtener los siguientes subconjuntos:\n",
    "\n",
    "- Obtén la fila 23 y la columna 2 (posiciones de índice 22 y 1).\n"
   ]
  },
  {
   "cell_type": "code",
   "execution_count": null,
   "metadata": {},
   "outputs": [],
   "source": [
    "print(\n",
    "    temperatures\n",
    "    .iloc[22, 1]\n",
    ")\n"
   ]
  },
  {
   "cell_type": "markdown",
   "metadata": {},
   "source": [
    "- Obtén las primeras 5 filas (posiciones de índice de 0 a 4)."
   ]
  },
  {
   "cell_type": "code",
   "execution_count": null,
   "metadata": {},
   "outputs": [],
   "source": [
    "print(\n",
    "    temperatures\n",
    "    .iloc[:5, :]\n",
    ")"
   ]
  },
  {
   "cell_type": "markdown",
   "metadata": {},
   "source": [
    "- Obtén todas las filas y las columnas 3 y 4 (posiciones de índice de 2 a 3)."
   ]
  },
  {
   "cell_type": "code",
   "execution_count": null,
   "metadata": {},
   "outputs": [],
   "source": [
    "print(\n",
    "    temperatures\n",
    "    .iloc[:, 2:4]\n",
    ")"
   ]
  },
  {
   "cell_type": "markdown",
   "metadata": {},
   "source": [
    "- Obtén las primeras 5 filas y las columnas 3 y 4."
   ]
  },
  {
   "cell_type": "code",
   "execution_count": null,
   "metadata": {},
   "outputs": [],
   "source": [
    "print(\n",
    "    temperatures\n",
    "    .iloc[:5, 2:4]\n",
    ")"
   ]
  },
  {
   "cell_type": "markdown",
   "metadata": {},
   "source": [
    "## Trabajando con tablas dinámicas (*pivot tables*)\n",
    "\n",
    "### Crear una tabla dinámica de temperaturas por ciudad y año\n",
    "\n",
    "Es interesante observar cómo cambian las temperaturas de cada ciudad a lo largo del tiempo. Sin embargo, ver cada mes por separado genera una tabla muy grande, lo que puede dificultar su interpretación. En su lugar, analizaremos cómo cambian las temperaturas por año.\n",
    "\n",
    "Puedes acceder a los componentes de una fecha (año, mes y día) usando el formato `dataframe[\"columna\"].dt.componente`. Por ejemplo, para obtener el mes se usa `dataframe[\"columna\"].dt.month`, y para obtener el año se usa `dataframe[\"columna\"].dt.year`.\n",
    "\n",
    "Una vez que tengas la columna del año, puedes crear una tabla dinámica (*pivot table*) con los datos agregados por ciudad y año, lo cual explorarás en los siguientes ejercicios.\n",
    "\n",
    "\n",
    "**Instrucciones**\n",
    "\n",
    "- Agrega una columna `year` a `temperatures`, obteniendo el componente `year` de la columna `date`.\n"
   ]
  },
  {
   "cell_type": "code",
   "execution_count": 33,
   "metadata": {},
   "outputs": [],
   "source": [
    "temperatures[\"date\"] = (\n",
    "    pd\n",
    "    .to_datetime(temperatures[\"date\"])\n",
    ") "
   ]
  },
  {
   "cell_type": "code",
   "execution_count": 34,
   "metadata": {},
   "outputs": [],
   "source": [
    "temperatures[\"year\"] = (\n",
    "    temperatures[\"date\"]\n",
    "    .dt.year\n",
    ")"
   ]
  },
  {
   "cell_type": "markdown",
   "metadata": {},
   "source": [
    "- Crea una tabla dinámica (*pivot table*) de la columna `avg_temp_c`, con `country` y `city` como filas, y `year` como columnas. Asígnala a `temp_by_country_city_vs_year` y *observa el resultado*."
   ]
  },
  {
   "cell_type": "code",
   "execution_count": null,
   "metadata": {},
   "outputs": [],
   "source": [
    "temp_by_country_city_vs_year = (\n",
    "    temperatures\n",
    "    .pivot_table(\n",
    "        values=\"avg_temp_c\",\n",
    "        index=[\"country\", \"city\"], \n",
    "        columns=\"year\"\n",
    "    )\n",
    ")\n",
    "\n",
    "print(temp_by_country_city_vs_year)"
   ]
  },
  {
   "cell_type": "markdown",
   "metadata": {},
   "source": [
    "### Subconjuntos en tablas dinámicas\n",
    "\n",
    "Una tabla dinámica (*pivot table*) es simplemente un DataFrame con índices ordenados, por lo que puedes aplicar las técnicas que ya aprendiste para obtener subconjuntos. En particular, la combinación de `.loc[]` con cortes (*slicing*) suele ser muy útil.\n",
    "\n",
    "\n",
    "**Instrucciones**\n",
    "\n",
    "Usa `.loc[]` en `temp_by_country_city_vs_year` para obtener los siguientes subconjuntos:\n",
    "\n",
    "- Desde `Egypt` hasta `India`.\n"
   ]
  },
  {
   "cell_type": "code",
   "execution_count": null,
   "metadata": {},
   "outputs": [],
   "source": [
    "(\n",
    "    temp_by_country_city_vs_year\n",
    "    .loc[\"Egypt\": \"India\"]\n",
    ")"
   ]
  },
  {
   "cell_type": "markdown",
   "metadata": {},
   "source": [
    "- Desde `Egypt, Cairo` hasta `India, Delhi`."
   ]
  },
  {
   "cell_type": "code",
   "execution_count": null,
   "metadata": {},
   "outputs": [],
   "source": [
    "(\n",
    "    temp_by_country_city_vs_year\n",
    "    .loc[(\"Egypt\", \"Cairo\"): (\"India\", \"Delhi\")]\n",
    ")"
   ]
  },
  {
   "cell_type": "markdown",
   "metadata": {},
   "source": [
    "- Desde `Egypt, Cairo` hasta `India, Delhi`, y desde el año 2005 hasta 2010."
   ]
  },
  {
   "cell_type": "code",
   "execution_count": null,
   "metadata": {},
   "outputs": [],
   "source": [
    "(\n",
    "    temp_by_country_city_vs_year\n",
    "    .loc[(\"Egypt\", \"Cairo\"): (\"India\", \"Delhi\"), \"2005\":\"2010\"]\n",
    ")"
   ]
  },
  {
   "cell_type": "markdown",
   "metadata": {},
   "source": [
    "### Cálculos en una tabla dinámica (*pivot table*)\n",
    "\n",
    "Las tablas dinámicas contienen estadísticas resumidas, pero suelen ser solo el primer paso para encontrar información relevante. A menudo, es necesario realizar cálculos adicionales sobre ellas. Una operación común es identificar las filas o columnas donde ocurre el valor más alto o más bajo.\n",
    "\n",
    "Recuerda de 1.1. que puedes obtener un subconjunto de una Serie o DataFrame utilizando una condición lógica dentro de corchetes. Por ejemplo: `serie[serie > valor]`.\n",
    "\n",
    "`pandas` está cargado como `pd` y el DataFrame `temp_by_country_city_vs_year` está disponible. A continuación, se muestra un `.head()` de este DataFrame con solo algunas columnas de años:\n",
    "\n",
    "| country | city | 2000 | 2001 | 2002 | … | 2013 |\n",
    "|---------|------|------|------|------|---|------|\n",
    "| Afghanistan | Kabul | 15.823 | 15.848 | 15.715 | … | 16.206 |\n",
    "| Angola | Luanda | 24.410 | 24.427 | 24.791 | … | 24.554 |\n",
    "| Australia | Melbourne | 14.320 | 14.180 | 14.076 | … | 14.742 |\n",
    "|  | Sydney | 17.567 | 17.854 | 17.734 | … | 18.090 |\n",
    "| Bangladesh | Dhaka | 25.905 | 25.931 | 26.095 | … | 26.587 |\n",
    "\n",
    "**Instrucciones**\n",
    "\n",
    "- Calcula la temperatura media para cada año y asígnala a `mean_temp_by_year`.\n",
    "- Filtra `mean_temp_by_year` para obtener el año con la temperatura media más alta.\n"
   ]
  },
  {
   "cell_type": "code",
   "execution_count": null,
   "metadata": {},
   "outputs": [],
   "source": [
    "mean_temp_by_year = (\n",
    "    temp_by_country_city_vs_year\n",
    "    .mean(axis=\"index\")\n",
    ")\n",
    "\n",
    "print(\n",
    "    mean_temp_by_year[mean_temp_by_year == mean_temp_by_year.max()]\n",
    ")"
   ]
  },
  {
   "cell_type": "markdown",
   "metadata": {},
   "source": [
    "- Calcula la temperatura media para cada ciudad (a través de las columnas) y asígnala a `mean_temp_by_city`.\n",
    "- Filtra `mean_temp_by_city` para obtener la ciudad con la temperatura media más baja."
   ]
  },
  {
   "cell_type": "code",
   "execution_count": null,
   "metadata": {},
   "outputs": [],
   "source": [
    "mean_temp_by_city = (\n",
    "    temp_by_country_city_vs_year\n",
    "    .mean(axis=\"columns\")\n",
    ")\n",
    "\n",
    "print(\n",
    "    mean_temp_by_city[mean_temp_by_city == mean_temp_by_city.min()]\n",
    ")"
   ]
  }
 ],
 "metadata": {
  "kernelspec": {
   "display_name": "mcd-projectsI2025a",
   "language": "python",
   "name": "python3"
  },
  "language_info": {
   "codemirror_mode": {
    "name": "ipython",
    "version": 3
   },
   "file_extension": ".py",
   "mimetype": "text/x-python",
   "name": "python",
   "nbconvert_exporter": "python",
   "pygments_lexer": "ipython3",
   "version": "3.13.0"
  }
 },
 "nbformat": 4,
 "nbformat_minor": 2
}
