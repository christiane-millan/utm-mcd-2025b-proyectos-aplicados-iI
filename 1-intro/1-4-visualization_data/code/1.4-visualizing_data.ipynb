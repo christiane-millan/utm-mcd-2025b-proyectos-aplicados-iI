{
 "cells": [
  {
   "cell_type": "markdown",
   "metadata": {},
   "source": [
    "# 1.4. visualización de datos\n",
    "\n",
    "## Visualización de DataFrames\n",
    "\n",
    "### ¿Qué tamaño de aguacate es el más popular?\n",
    "\n",
    "Los aguacates son cada vez más populares y son un ingrediente clave en el guacamole y las tostadas. La *Hass Avocado Board* realiza un seguimiento del suministro y la demanda de aguacates en los EE. UU., incluyendo las ventas de tres tamaños diferentes de aguacates. En este ejercicio, utilizarás un gráfico de barras para determinar qué tamaño es el más popular.\n",
    "\n",
    "Los gráficos de barras son ideales para mostrar la relación entre variables categóricas (tamaño) y numéricas (cantidad vendida), pero a menudo es necesario manipular los datos antes de obtener los valores adecuados para la visualización."
   ]
  },
  {
   "cell_type": "code",
   "execution_count": 1,
   "metadata": {},
   "outputs": [],
   "source": [
    "import pandas as pd\n",
    "import matplotlib.pyplot as plt"
   ]
  },
  {
   "cell_type": "code",
   "execution_count": null,
   "metadata": {},
   "outputs": [],
   "source": [
    "avocados = pd.read_csv(\"../../../datasets/avocado.csv\")\n",
    "\n",
    "avocados.head()"
   ]
  },
  {
   "cell_type": "markdown",
   "metadata": {},
   "source": [
    "**Instrucciones**\n",
    "\n",
    "- Imprime las primeras filas del conjunto de datos `avocados`. *¿Qué columnas están disponibles?*"
   ]
  },
  {
   "cell_type": "code",
   "execution_count": null,
   "metadata": {},
   "outputs": [],
   "source": [
    "print(avocados.head())"
   ]
  },
  {
   "cell_type": "markdown",
   "metadata": {},
   "source": [
    "- Para cada grupo de tamaño de aguacate, calcula el número total vendido y guárdalo en `nb_sold_by_size`.\n"
   ]
  },
  {
   "cell_type": "code",
   "execution_count": 5,
   "metadata": {},
   "outputs": [],
   "source": [
    "nb_sold_by_size = (\n",
    "    avocados\n",
    "    .groupby(\"size\")['nb_sold']\n",
    "    .sum()\n",
    ")"
   ]
  },
  {
   "cell_type": "markdown",
   "metadata": {},
   "source": [
    "- Crea un gráfico de barras con el número de aguacates vendidos por tamaño.\n",
    "- Muestra el gráfico."
   ]
  },
  {
   "cell_type": "code",
   "execution_count": null,
   "metadata": {},
   "outputs": [],
   "source": [
    "(\n",
    "    nb_sold_by_size\n",
    "    .plot(kind=\"bar\")\n",
    ")\n",
    "\n",
    "plt.show()"
   ]
  },
  {
   "cell_type": "markdown",
   "metadata": {},
   "source": [
    "### Cambios en las ventas a lo largo del tiempo\n",
    "\n",
    "Los gráficos de líneas están diseñados para visualizar la relación entre dos variables numéricas, donde cada valor de datos está conectado con el siguiente. Son especialmente útiles para visualizar cambios en un valor a lo largo del tiempo, ya que cada punto temporal está naturalmente conectado con el siguiente. En este ejercicio, visualizarás el cambio en las ventas de aguacates durante tres años.\n",
    "\n",
    "`pandas` ha sido importado como `pd` y el DataFrame `avocados` está disponible.\n",
    "\n",
    "**Instrucciones**\n",
    "\n",
    "- Obtén el número total de aguacates vendidos en cada fecha. *El DataFrame tiene dos filas por cada fecha: una para aguacates orgánicos y otra para convencionales*. Guarda este resultado en `nb_sold_by_date`.\n",
    "- Crea un gráfico de líneas con el número de aguacates vendidos.\n",
    "- Muestra el gráfico."
   ]
  },
  {
   "cell_type": "code",
   "execution_count": null,
   "metadata": {},
   "outputs": [],
   "source": [
    "nb_sold_by_date = (\n",
    "    avocados\n",
    "    .groupby(\"date\")[\"nb_sold\"]\n",
    "    .sum()\n",
    ")\n",
    "\n",
    "nb_sold_by_date.plot(kind=\"line\")\n",
    "\n",
    "plt.show()"
   ]
  },
  {
   "cell_type": "markdown",
   "metadata": {},
   "source": [
    "### Oferta y demanda de aguacates\n",
    "\n",
    "Los gráficos de dispersión (*scatter plots*) son ideales para visualizar la relación entre variables numéricas. En este ejercicio, compararás el número de aguacates vendidos con el precio promedio para ver si están relacionados. Si existe una relación, podrías utilizar uno de los valores para predecir el otro.\n",
    "\n",
    "**Instrucciones**\n",
    "\n",
    "- Crea un gráfico de dispersión con `nb_sold` en el eje x y `avg_price` en el eje y. Titúlalo `\"Número de aguacates vendidos vs. precio promedio\"`.\n",
    "- Muestra el gráfico."
   ]
  },
  {
   "cell_type": "code",
   "execution_count": null,
   "metadata": {},
   "outputs": [],
   "source": [
    "\n",
    "(\n",
    "    avocados\n",
    "    .plot(\n",
    "        x=\"nb_sold\", \n",
    "        y=\"avg_price\", \n",
    "        title=\"Number of avocados sold vs. average price\", \n",
    "        kind=\"scatter\"\n",
    "    )\n",
    ")"
   ]
  },
  {
   "cell_type": "markdown",
   "metadata": {},
   "source": [
    "### Precio de aguacates convencionales vs. orgánicos\n",
    "\n",
    "Crear múltiples gráficos para diferentes subconjuntos de datos permite comparar grupos. En este ejercicio, crearás varios histogramas para comparar los precios de los aguacates convencionales y orgánicos.\n",
    "\n",
    "**Instrucciones**\n",
    "\n",
    "- Filtra `avocados` para el tipo `\"conventional\"` y crea un histograma de la columna `avg_price`.\n",
    "- Crea un histograma de `avg_price` para los aguacates de tipo `\"organic\"`.\n",
    "- Agrega una leyenda al gráfico con los nombres `\"conventional\"` y `\"organic\"`.\n",
    "- Muestra el gráfico."
   ]
  },
  {
   "cell_type": "code",
   "execution_count": null,
   "metadata": {},
   "outputs": [],
   "source": [
    "( \n",
    "    avocados[avocados[\"type\"] == \"conventional\"][\"avg_price\"]\n",
    "    .hist()\n",
    ")    \n",
    "\n",
    "(\n",
    "    avocados[avocados[\"type\"] == \"organic\"][\"avg_price\"]\n",
    "    .hist()\n",
    ")\n",
    "\n",
    "plt.legend([\"conventional\", \"organic\"])\n",
    "\n",
    "plt.show()"
   ]
  },
  {
   "cell_type": "markdown",
   "metadata": {},
   "source": [
    "- Modifica el código para ajusta la transparencia (*alpha*) de ambos histogramas a `0.5` para visualizar mejor la superposición entre las dos distribuciones.\n"
   ]
  },
  {
   "cell_type": "code",
   "execution_count": null,
   "metadata": {},
   "outputs": [],
   "source": [
    "(\n",
    "    avocados[avocados[\"type\"] == \"conventional\"][\"avg_price\"]\n",
    "    .hist(alpha=0.5)\n",
    ")\n",
    "\n",
    "(\n",
    "    avocados[avocados[\"type\"] == \"organic\"][\"avg_price\"]\n",
    "    .hist(alpha=0.5)\n",
    ")\n",
    "\n",
    "plt.legend([\"conventional\", \"organic\"])\n",
    "\n",
    "plt.show()"
   ]
  },
  {
   "cell_type": "markdown",
   "metadata": {},
   "source": [
    "- Modifica el código para utilizar 20 `bins` en ambos histogramas."
   ]
  },
  {
   "cell_type": "code",
   "execution_count": null,
   "metadata": {},
   "outputs": [],
   "source": [
    "(\n",
    "    avocados[avocados[\"type\"] == \"conventional\"][\"avg_price\"]\n",
    "    .hist(alpha=0.5, bins=20)\n",
    ")\n",
    "\n",
    "(\n",
    "    avocados[avocados[\"type\"] == \"organic\"][\"avg_price\"]\n",
    "    .hist(alpha=0.5, bins=20)\n",
    ")\n",
    "\n",
    "plt.legend([\"conventional\", \"organic\"])\n",
    "\n",
    "plt.show()"
   ]
  },
  {
   "cell_type": "markdown",
   "metadata": {},
   "source": [
    "## Valores faltantes\n",
    "\n",
    "### Identificación de valores faltantes\n",
    "\n",
    "Los valores faltantes están en todas partes, y no quieres que interfieran con tu trabajo. Algunas funciones ignoran los datos faltantes por defecto, pero ese no siempre es el comportamiento deseado. Otras funciones no pueden manejar valores faltantes en absoluto, por lo que es necesario tratarlos antes de poder usarlos. Si no sabes dónde están los valores faltantes, o si existen, podrías cometer errores en tu análisis. En este ejercicio, determinarás si hay valores faltantes en el conjunto de datos y, de ser así, cuántos hay.\n",
    "\n",
    "-  `avocados_2016`, un subconjunto de `avocados` que contiene solo las ventas de 2016, está disponible.\n",
    "\n",
    "**Instrucciones**\n",
    "\n",
    "- Imprime un DataFrame que muestre si cada valor en `avocados_2016` está faltante o no.\n",
    "- Imprime un resumen que indique si *algún* valor en cada columna está faltante.\n",
    "- Crea un gráfico de barras con el número total de valores faltantes en cada columna."
   ]
  },
  {
   "cell_type": "code",
   "execution_count": 12,
   "metadata": {},
   "outputs": [],
   "source": [
    "avocados_2016 = pd.read_csv(\"../../../datasets/avocados_2016.csv\")"
   ]
  },
  {
   "cell_type": "code",
   "execution_count": null,
   "metadata": {},
   "outputs": [],
   "source": [
    "import matplotlib.pyplot as plt\n",
    "\n",
    "print(avocados_2016.isna())\n"
   ]
  },
  {
   "cell_type": "code",
   "execution_count": null,
   "metadata": {},
   "outputs": [],
   "source": [
    "print(\n",
    "    avocados_2016\n",
    "    .isna()\n",
    "    .any()\n",
    ")\n"
   ]
  },
  {
   "cell_type": "code",
   "execution_count": null,
   "metadata": {},
   "outputs": [],
   "source": [
    "(\n",
    "    avocados_2016\n",
    "    .isna()\n",
    "    .sum()\n",
    "    .plot(kind=\"bar\")\n",
    ")\n",
    "\n",
    "plt.show()"
   ]
  },
  {
   "cell_type": "markdown",
   "metadata": {},
   "source": [
    "### Eliminación de valores faltantes\n",
    "\n",
    "Ahora que sabes que hay algunos valores faltantes en tu DataFrame, tienes varias opciones para manejarlos. Una de ellas es eliminarlos completamente del conjunto de datos. En este ejercicio, eliminarás los valores faltantes eliminando todas las filas que los contengan.\n",
    "\n",
    "`pandas` ha sido importado como `pd` y `avocados_2016` está disponible.\n",
    "\n",
    "**Instrucciones**\n",
    "\n",
    "- Elimina las filas de `avocados_2016` que contienen valores faltantes y almacena las filas restantes en `avocados_complete`.\n",
    "- Verifica que todos los valores faltantes han sido eliminados de `avocados_complete`. Calcula cuántos valores `NA` hay en cada columna e imprímelos."
   ]
  },
  {
   "cell_type": "code",
   "execution_count": null,
   "metadata": {},
   "outputs": [],
   "source": [
    "avocados_complete = (\n",
    "    avocados_2016\n",
    "    .dropna()\n",
    ")\n",
    "\n",
    "print(\n",
    "    avocados_complete\n",
    "    .isna()\n",
    "    .any()\n",
    ")"
   ]
  },
  {
   "cell_type": "markdown",
   "metadata": {},
   "source": [
    "### Reemplazo de valores faltantes\n",
    "\n",
    "Otra forma de manejar los valores faltantes es reemplazarlos con un mismo valor. Para variables numéricas, una opción es reemplazar los valores con `0`, lo cual harás en este ejercicio. Sin embargo, cuando reemplazas valores faltantes, estás asumiendo qué significa un valor faltante. En este caso, asumirás que un número de ventas faltante significa que no se realizaron ventas de ese tipo de aguacate en esa semana.\n",
    "\n",
    "En este ejercicio, verás cómo reemplazar valores faltantes puede afectar la distribución de una variable utilizando histogramas. Puedes graficar histogramas para múltiples variables a la vez de la siguiente manera:\n",
    "\n",
    "dogs[[“height_cm”, “weight_kg”]].hist()\n",
    "\n",
    "`pandas` ha sido importado como `pd` y `matplotlib.pyplot` ha sido importado como `plt`. El conjunto de datos `avocados_2016` está disponible.\n",
    "\n",
    "**Instrucciones**\n",
    "\n",
    "- Se ha creado una lista, `cols_with_missing`, que contiene los nombres de las columnas con valores faltantes: `\"small_sold\"`, `\"large_sold\"` y `\"xl_sold\"`.\n",
    "- Crea un histograma de esas columnas.\n",
    "- Muestra el gráfico."
   ]
  },
  {
   "cell_type": "code",
   "execution_count": null,
   "metadata": {},
   "outputs": [],
   "source": [
    "cols_with_missing = (\n",
    "    [\"small_sold\", \"large_sold\", \"xl_sold\"]\n",
    ")\n",
    "\n",
    "avocados_2016[cols_with_missing].hist()\n",
    "\n",
    "plt.show()"
   ]
  },
  {
   "cell_type": "markdown",
   "metadata": {},
   "source": [
    "**Instrucciones**\n",
    "\n",
    "- Reemplaza los valores faltantes de `avocados_2016` con `0` y almacena el resultado en `avocados_filled`.\n",
    "- Crea un histograma de las columnas en `cols_with_missing` dentro de `avocados_filled`.\n",
    "- Muestra el gráfico."
   ]
  },
  {
   "cell_type": "code",
   "execution_count": null,
   "metadata": {},
   "outputs": [],
   "source": [
    "cols_with_missing = [\"small_sold\", \"large_sold\", \"xl_sold\"]\n",
    "avocados_2016[cols_with_missing].hist()\n",
    "plt.show()\n",
    "\n",
    "avocados_filled = avocados_2016.fillna(0)\n",
    "\n",
    "avocados_filled[cols_with_missing].hist()\n",
    "\n",
    "plt.show()"
   ]
  },
  {
   "cell_type": "markdown",
   "metadata": {},
   "source": [
    "## Creating DataFrames\n",
    "\n",
    "### List of dictionaries\n",
    "\n",
    "You recently got some new avocado data from 2019 that you'd like to put in a DataFrame using the list of dictionaries method. Remember that with this method, you go through the data row by row.\n",
    "\n",
    "| date | small_sold | large_sold |\n",
    "| --- | --- | --- |\n",
    "| \"2019-11-03\" | 10376832 | 7835071 |\n",
    "| \"2019-11-10\" | 10717154 | 8561348 |\n",
    "\n",
    "`pandas` as `pd` is imported.\n",
    "\n",
    "**Instructions**\n",
    "\n",
    "- Create a list of dictionaries with the new data called `avocados_list`.\n",
    "- Convert the list into a DataFrame called `avocados_2019`.\n",
    "- Print your new DataFrame."
   ]
  },
  {
   "cell_type": "code",
   "execution_count": null,
   "metadata": {},
   "outputs": [],
   "source": [
    "# Create a list of dictionaries with new data\n",
    "avocados_list = [\n",
    "    {\"date\": \"2019-11-03\", \"small_sold\": 10376832, \"large_sold\": 7835071},\n",
    "    {\"date\": \"2019-11-10\", \"small_sold\": 10717154, \"large_sold\": 8561348},\n",
    "]\n",
    "\n",
    "# Convert list into DataFrame\n",
    "avocados_2019 = pd.DataFrame(avocados_list)\n",
    "\n",
    "# Print the new DataFrame\n",
    "print(avocados_2019)"
   ]
  },
  {
   "cell_type": "markdown",
   "metadata": {},
   "source": [
    "### Diccionario de listas\n",
    "\n",
    "¡Han llegado más datos! Esta vez, usarás el método de diccionario de listas para procesar los datos columna por columna.\n",
    "\n",
    "| date        | small_sold | large_sold |\n",
    "|------------|------------|------------|\n",
    "| \"2019-11-17\" | 10859987   | 7674135    |\n",
    "| \"2019-12-01\" | 9291631    | 6238096    |\n",
    "\n",
    "`pandas` ha sido importado como `pd`.\n",
    "\n",
    "**Instrucciones**\n",
    "\n",
    "- Crea un diccionario de listas con los nuevos datos llamado `avocados_dict`.\n",
    "- Convierte el diccionario en un DataFrame llamado `avocados_2019`.\n",
    "- Imprime tu nuevo DataFrame."
   ]
  },
  {
   "cell_type": "code",
   "execution_count": null,
   "metadata": {},
   "outputs": [],
   "source": [
    "avocados_dict = {\n",
    "  \"date\": [\"2019-11-17\", \"2019-12-01\"],\n",
    "  \"small_sold\": [10859987, 9291631],\n",
    "  \"large_sold\": [7674135, 6238096]\n",
    "}\n",
    "\n",
    "avocados_2019 = pd.DataFrame(avocados_dict)\n",
    "\n",
    "print(avocados_2019)"
   ]
  },
  {
   "cell_type": "markdown",
   "metadata": {},
   "source": [
    "## Lectura y escritura de archivos CSV\n",
    "\n",
    "### CSV a DataFrame\n",
    "\n",
    "Trabajas para una aerolínea y tu gerente te ha pedido realizar un análisis competitivo para ver con qué frecuencia los pasajeros que vuelan en otras aerolíneas son expulsados involuntariamente de sus vuelos. Has obtenido un archivo CSV (`airline_bumping.csv`) del Departamento de Transporte que contiene datos sobre pasajeros a los que se les negó el embarque involuntariamente en 2016 y 2017, pero no tiene exactamente los números que necesitas. Para obtener la información deseada, primero debes cargar el CSV en un DataFrame de pandas y realizar algunas manipulaciones.\n",
    "\n",
    "`pandas` ha sido importado como `pd`. El archivo `\"airline_bumping.csv\"` está en tu directorio de trabajo.\n",
    "\n",
    "**Instrucciones**\n",
    "\n",
    "- Lee el archivo CSV `\"airline_bumping.csv\"` y almacénalo en un DataFrame llamado `airline_bumping`.\n",
    "- Imprime las primeras filas de `airline_bumping`."
   ]
  },
  {
   "cell_type": "code",
   "execution_count": null,
   "metadata": {},
   "outputs": [],
   "source": [
    "airline_bumping = pd.read_csv(\"../../../datasets/airline_bumping.csv\")\n",
    "\n",
    "print(airline_bumping.head())"
   ]
  },
  {
   "cell_type": "markdown",
   "metadata": {},
   "source": [
    "- Para cada grupo de aerolíneas, selecciona las columnas `nb_bumped` y `total_passengers`, y calcula la suma (para ambos años). Almacena este resultado en `airline_totals`."
   ]
  },
  {
   "cell_type": "code",
   "execution_count": 24,
   "metadata": {},
   "outputs": [],
   "source": [
    "airline_totals = (\n",
    "    airline_bumping\n",
    "    .groupby(\"airline\")[[\"nb_bumped\", \"total_passengers\"]]\n",
    "    .sum()\n",
    ")"
   ]
  },
  {
   "cell_type": "markdown",
   "metadata": {},
   "source": [
    "- Crea una nueva columna en `airline_totals` llamada `bumps_per_10k`, que represente el número de pasajeros expulsados involuntariamente por cada 10,000 pasajeros en 2016 y 2017."
   ]
  },
  {
   "cell_type": "code",
   "execution_count": null,
   "metadata": {},
   "outputs": [],
   "source": [
    "airline_bumping[\"bumps_per_10k\"] = (\n",
    "    airline_totals[\"nb_bumped\"] / airline_totals[\"total_passengers\"] * 10000\n",
    ")\n",
    "\n",
    "print(airline_totals)"
   ]
  },
  {
   "cell_type": "markdown",
   "metadata": {},
   "source": [
    "### DataFrame a CSV\n",
    "\n",
    "¡Ya casi terminas! Para que los datos sean más fáciles de leer, necesitas ordenarlos y exportarlos a un archivo CSV para que tus colegas puedan analizarlos.\n",
    "\n",
    "`pandas` ha sido importado como `pd`.\n",
    "\n",
    "**Instrucciones**\n",
    "\n",
    "- Ordena `airline_totals` por los valores de `bumps_per_10k` de mayor a menor y almacénalo en `airline_totals_sorted`.\n",
    "- Imprime el DataFrame ordenado.\n",
    "- Guarda el DataFrame ordenado como un archivo CSV llamado `\"airline_totals_sorted.csv\"`."
   ]
  },
  {
   "cell_type": "code",
   "execution_count": null,
   "metadata": {},
   "outputs": [],
   "source": [
    "airline_totals_sorted = airline_bumping.sort_values(\"bumps_per_10k\", ascending=False)\n",
    "\n",
    "print(airline_totals_sorted)\n",
    "\n",
    "airline_totals_sorted.to_csv(\"airline_totals_sorted.csv\")"
   ]
  }
 ],
 "metadata": {
  "kernelspec": {
   "display_name": "mcd-projectsI2025a",
   "language": "python",
   "name": "python3"
  },
  "language_info": {
   "codemirror_mode": {
    "name": "ipython",
    "version": 3
   },
   "file_extension": ".py",
   "mimetype": "text/x-python",
   "name": "python",
   "nbconvert_exporter": "python",
   "pygments_lexer": "ipython3",
   "version": "3.13.0"
  }
 },
 "nbformat": 4,
 "nbformat_minor": 2
}
