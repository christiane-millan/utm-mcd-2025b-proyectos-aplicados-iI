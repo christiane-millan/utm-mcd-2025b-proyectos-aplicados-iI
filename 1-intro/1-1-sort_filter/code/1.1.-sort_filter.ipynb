{
 "cells": [
  {
   "cell_type": "markdown",
   "metadata": {},
   "source": [
    "# **Introducción a los DataFrames**\n",
    "\n",
    "## **Inspeccionando un DataFrame**  \n",
    "\n",
    "Cuando trabajas con un nuevo **DataFrame**, lo primero que debes hacer es explorarlo para entender qué información contiene. Para ello, existen varios métodos y atributos útiles en Pandas:  \n",
    "\n",
    "- **`.head()`**: Devuelve las primeras filas del DataFrame (la \"cabeza\" del DataFrame).  \n",
    "- **`.info()`**: Muestra información sobre cada columna, como el tipo de dato y la cantidad de valores faltantes.  \n",
    "- **`.shape`**: Retorna el número de filas y columnas del DataFrame.  \n",
    "- **`.describe()`**: Calcula estadísticas resumidas para cada columna.  \n",
    "\n",
    "El **DataFrame `homelessness`** contiene estimaciones sobre la población sin hogar en cada estado de EE. UU. en el año 2018.  \n",
    "\n",
    "- La columna **`individual`** representa el número de personas sin hogar que no forman parte de una familia con niños.  \n",
    "- La columna **`family_members`** representa el número de personas sin hogar que sí forman parte de una familia con niños.  \n",
    "- La columna **`state_pop`** representa la población total del estado.  "
   ]
  },
  {
   "cell_type": "code",
   "execution_count": 11,
   "metadata": {},
   "outputs": [],
   "source": [
    "import pandas as pd"
   ]
  },
  {
   "cell_type": "code",
   "execution_count": 12,
   "metadata": {},
   "outputs": [],
   "source": [
    "homelessness = (pd\n",
    "    .read_csv('../../datasets/homelessness.csv')\n",
    ")"
   ]
  },
  {
   "cell_type": "markdown",
   "metadata": {},
   "source": [
    "Imprimir el encabezado de los datos `homelessness`."
   ]
  },
  {
   "cell_type": "code",
   "execution_count": null,
   "metadata": {},
   "outputs": [],
   "source": [
    "(\n",
    "    homelessness\n",
    "    .head()\n",
    ")"
   ]
  },
  {
   "cell_type": "markdown",
   "metadata": {},
   "source": [
    "### **Imprimir el número de filas y columnas en `homelessness`**  \n",
    "\n",
    "Imprime información sobre los tipos de columnas y los valores faltantes en el DataFrame `homelessness`.  "
   ]
  },
  {
   "cell_type": "code",
   "execution_count": null,
   "metadata": {},
   "outputs": [],
   "source": [
    "( \n",
    "    homelessness\n",
    "    .info()\n",
    ")"
   ]
  },
  {
   "cell_type": "markdown",
   "metadata": {},
   "source": [
    "Muestra la cantidad de filas y columnas en el DataFrame `homelessness`.  "
   ]
  },
  {
   "cell_type": "code",
   "execution_count": null,
   "metadata": {},
   "outputs": [],
   "source": [
    "(\n",
    "    homelessness\n",
    "    .shape\n",
    ")"
   ]
  },
  {
   "cell_type": "markdown",
   "metadata": {},
   "source": [
    "### **Imprimir estadísticas resumidas del DataFrame `homelessness`**  \n",
    "\n",
    "Muestra algunas estadísticas descriptivas que resumen los datos en el DataFrame `homelessness`.  "
   ]
  },
  {
   "cell_type": "code",
   "execution_count": null,
   "metadata": {},
   "outputs": [],
   "source": [
    "\n",
    "(\n",
    "    homelessness\n",
    "    .describe()\n",
    ")\n"
   ]
  },
  {
   "cell_type": "markdown",
   "metadata": {},
   "source": [
    "## **Partes de un DataFrame**  \n",
    "\n",
    "Para comprender mejor los objetos **DataFrame**, es útil saber que están compuestos por tres elementos principales, almacenados como atributos:  \n",
    "\n",
    "- **`.values`**: Un array bidimensional de NumPy que contiene los valores.  \n",
    "- **`.columns`**: Un índice de columnas que almacena los nombres de las columnas.  \n",
    "- **`.index`**: Un índice para las filas, que puede ser una numeración de filas o nombres de filas.  \n",
    "\n",
    "Por lo general, puedes pensar en los **índices** como una lista de cadenas o números, aunque el tipo de dato **Index de Pandas** permite opciones más avanzadas. (Estos conceptos se explicarán más adelante en el curso).  "
   ]
  },
  {
   "cell_type": "markdown",
   "metadata": {},
   "source": [
    "### **Explorar los atributos de `homelessness`**  \n",
    "\n",
    "1. **Imprimir un array bidimensional de NumPy** con los valores en `homelessness`.  \n",
    "2. **Imprimir los nombres de las columnas** en `homelessness`.  \n",
    "3. **Imprimir el índice** del DataFrame `homelessness`.  "
   ]
  },
  {
   "cell_type": "code",
   "execution_count": null,
   "metadata": {},
   "outputs": [],
   "source": [
    "(\n",
    "    homelessness\n",
    "    .values\n",
    ")\n"
   ]
  },
  {
   "cell_type": "code",
   "execution_count": null,
   "metadata": {},
   "outputs": [],
   "source": [
    "(\n",
    "    homelessness\n",
    "    .columns\n",
    ")\n"
   ]
  },
  {
   "cell_type": "code",
   "execution_count": null,
   "metadata": {},
   "outputs": [],
   "source": [
    "(\n",
    "    homelessness\n",
    "    .index\n",
    ")"
   ]
  },
  {
   "cell_type": "markdown",
   "metadata": {},
   "source": [
    "# **Ordenamiento y filtrado**\n",
    "\n",
    "## **Ordenar filas**\n",
    "\n",
    "Encontrar información relevante en un **DataFrame** suele ser más fácil si cambiamos el orden de las filas. Puedes ordenarlas utilizando el método `.sort_values()`, pasando el nombre de la columna como argumento.  \n",
    "\n",
    "En casos donde varias filas tienen el mismo valor en la columna de ordenamiento (situación común en variables categóricas), puedes **desempatar** ordenando por otra columna adicional. Para ello, simplemente pasa una lista de nombres de columnas a `.sort_values()`.  \n",
    "\n",
    "| Ordenar por… | Sintaxis |\n",
    "| --- | --- |\n",
    "| Una columna | `df.sort_values(\"breed\")` |\n",
    "| Varias columnas | `df.sort_values([\"breed\", \"weight_kg\"])` |\n",
    "\n",
    "Combinando `.sort_values()` con `.head()`, puedes responder preguntas del tipo:  \n",
    "**\"¿Cuáles son los principales casos en los que…?\"**  \n"
   ]
  },
  {
   "cell_type": "markdown",
   "metadata": {},
   "source": [
    "### **Ordenar `homelessness` por el número de personas sin hogar**\n",
    "\n",
    "1. Ordena el DataFrame `homelessness` por el número de personas sin hogar (`individual`), de menor a mayor, y guarda el resultado en `homelessness_ind`.  \n",
    "2. Imprime las primeras filas del DataFrame ordenado utilizando `.head()`.  "
   ]
  },
  {
   "cell_type": "code",
   "execution_count": null,
   "metadata": {},
   "outputs": [],
   "source": [
    "homelessness_ind = (\n",
    "    homelessness\n",
    "    .sort_values('individuals')\n",
    ")\n",
    "\n",
    "print(homelessness_ind.head())"
   ]
  },
  {
   "cell_type": "markdown",
   "metadata": {},
   "source": [
    "### **Ordenar `homelessness` por el número de miembros de familias sin hogar**\n",
    "\n",
    "1. Ordena el DataFrame `homelessness` por el número de **miembros de familias sin hogar** (`family_members`) en **orden descendente** y guarda el resultado en `homelessness_fam`.  \n",
    "2. Imprime las primeras filas del DataFrame ordenado utilizando `.head()`.  "
   ]
  },
  {
   "cell_type": "code",
   "execution_count": null,
   "metadata": {},
   "outputs": [],
   "source": [
    "homelessness_fam = (\n",
    "    homelessness\n",
    "    .sort_values(\n",
    "        'family_members', \n",
    "        ascending=False\n",
    "    )\n",
    ")\n",
    "\n",
    "print(homelessness_fam.head())"
   ]
  },
  {
   "cell_type": "markdown",
   "metadata": {},
   "source": [
    "### **Ordenar `homelessness` por región y número de miembros de familias sin hogar**\n",
    "\n",
    "1. Ordena el DataFrame `homelessness` primero por **región** en **orden ascendente**, y luego por el número de **miembros de familias sin hogar** (`family_members`) en **orden descendente**.  \n",
    "2. Guarda el resultado en `homelessness_reg_fam`.  \n",
    "3. Imprime las primeras filas del DataFrame ordenado utilizando `.head()`.  "
   ]
  },
  {
   "cell_type": "code",
   "execution_count": null,
   "metadata": {},
   "outputs": [],
   "source": [
    "homelessness_reg_fam = (\n",
    "    homelessness\n",
    "    .sort_values(\n",
    "        ['region', 'family_members'], \n",
    "        ascending=[True, False]\n",
    "    )\n",
    ")\n",
    "\n",
    "print(homelessness_reg_fam.head())"
   ]
  },
  {
   "cell_type": "markdown",
   "metadata": {},
   "source": [
    "Aquí tienes la traducción en formato Markdown:\n",
    "\n",
    "# **Filtrado de columnas**\n",
    "\n",
    "Al trabajar con datos, es posible que no necesites todas las variables de tu conjunto de datos. Puedes utilizar corchetes (`[]`) para seleccionar únicamente las columnas que te interesan, en el orden que prefieras.  \n",
    "\n",
    "Para seleccionar solo la columna `\"col_a\"` del DataFrame `df`, usa:  \n",
    "\n",
    "```python\n",
    "df[\"col_a\"]\n",
    "\n",
    "Para seleccionar las columnas \"col_a\" y \"col_b\" de df, usa:\n",
    "\n",
    "df[[\"col_a\", \"col_b\"]]"
   ]
  },
  {
   "cell_type": "markdown",
   "metadata": {},
   "source": [
    "### **Seleccionar la columna `individuals` del DataFrame `homelessness`**\n",
    "\n",
    "1. Crea un nuevo DataFrame llamado `individuals` que contenga solo la columna `individuals` del DataFrame `homelessness`.  \n",
    "2. Imprime las primeras filas del resultado utilizando `.head()`.  "
   ]
  },
  {
   "cell_type": "code",
   "execution_count": null,
   "metadata": {},
   "outputs": [],
   "source": [
    "individuals = (\n",
    "    homelessness[['individuals']]\n",
    ")\n",
    "\n",
    "print(individuals.head())"
   ]
  },
  {
   "cell_type": "markdown",
   "metadata": {},
   "source": [
    "### **Seleccionar las columnas `state` y `family_members` del DataFrame `homelessness`**\n",
    "\n",
    "1. Crea un nuevo DataFrame llamado `state_fam` que contenga únicamente las columnas `state` y `family_members` del DataFrame `homelessness`, en ese orden.  \n",
    "2. Imprime las primeras filas del resultado utilizando `.head()`.  "
   ]
  },
  {
   "cell_type": "code",
   "execution_count": null,
   "metadata": {},
   "outputs": [],
   "source": [
    "state_fam = (\n",
    "    homelessness[['state', 'family_members']]\n",
    ")\n",
    "\n",
    "print(state_fam.head())"
   ]
  },
  {
   "cell_type": "markdown",
   "metadata": {},
   "source": [
    "### **Seleccionar las columnas `individuals` y `state` del DataFrame `homelessness`**\n",
    "\n",
    "1. Crea un nuevo DataFrame llamado `ind_state` que contenga únicamente las columnas `individuals` y `state` del DataFrame `homelessness`, en ese orden.  \n",
    "2. Imprime las primeras filas del resultado utilizando `.head()`.  "
   ]
  },
  {
   "cell_type": "code",
   "execution_count": null,
   "metadata": {},
   "outputs": [],
   "source": [
    "ind_state = (\n",
    "    homelessness[\n",
    "        [\n",
    "            'individuals', \n",
    "            'state'\n",
    "        ]\n",
    "    ]\n",
    ")\n",
    "\n",
    "print(ind_state.head())"
   ]
  },
  {
   "cell_type": "markdown",
   "metadata": {},
   "source": [
    "## **Filtrado de filas (Subsetting rows)**  \n",
    "\n",
    "Una gran parte de la ciencia de datos consiste en identificar qué partes del conjunto de datos son **interesantes**. Una de las técnicas más simples para esto es encontrar un **subconjunto de filas** que cumplan con ciertos criterios. A este proceso también se le conoce como **filtrado de filas** o **selección de filas**.  \n",
    "\n",
    "Existen varias formas de filtrar un DataFrame, pero la más común es utilizar **operadores relacionales** para obtener valores `True` o `False` para cada fila, y luego pasar este resultado dentro de corchetes (`[]`).  \n",
    "\n",
    "```python\n",
    "dogs[dogs[\"height_cm\"] > 60]\n",
    "dogs[dogs[\"color\"] == \"tan\"]\n",
    "\n",
    "Si deseas filtrar múltiples condiciones al mismo tiempo, puedes utilizar el operador “bitwise and” (&):\n",
    "\n",
    "dogs[(dogs[\"height_cm\"] > 60) & (dogs[\"color\"] == \"tan\")]\n",
    "\n"
   ]
  },
  {
   "cell_type": "markdown",
   "metadata": {},
   "source": [
    "### **Filtrar `homelessness` para casos con más de 10,000 individuos sin hogar**  \n",
    "\n",
    "1. Filtra el DataFrame `homelessness` para incluir solo los casos donde la columna `individuals` sea **mayor a 10,000**.  \n",
    "2. Guarda el resultado en un nuevo DataFrame llamado `ind_gt_10k`.  \n",
    "3. Imprime el resultado para visualizar los datos filtrados.  "
   ]
  },
  {
   "cell_type": "code",
   "execution_count": null,
   "metadata": {},
   "outputs": [],
   "source": [
    "ind_gt_10k = (\n",
    "    homelessness[homelessness['individuals'] > 10000]\n",
    ")\n",
    "\n",
    "print(ind_gt_10k)"
   ]
  },
  {
   "cell_type": "markdown",
   "metadata": {},
   "source": [
    "### **Filtrar `homelessness` para la región del censo de EE. UU. `\"Mountain\"`**  \n",
    "\n",
    "1. Filtra el DataFrame `homelessness` para incluir solo los casos donde la columna `region` sea `\"Mountain\"`.  \n",
    "2. Guarda el resultado en un nuevo DataFrame llamado `mountain_reg`.  \n",
    "3. Imprime el resultado para visualizar los datos filtrados.  "
   ]
  },
  {
   "cell_type": "code",
   "execution_count": null,
   "metadata": {},
   "outputs": [],
   "source": [
    "mountain_reg = (\n",
    "    homelessness[\n",
    "        homelessness['region'] == 'Mountain'\n",
    "    ]\n",
    ")\n",
    "\n",
    "print(mountain_reg)"
   ]
  },
  {
   "cell_type": "markdown",
   "metadata": {},
   "source": [
    "### **Filtrar `homelessness` para casos con menos de 1,000 miembros de familia en la región \"Pacific\"**  \n",
    "\n",
    "1. Filtra el DataFrame `homelessness` para incluir solo los casos donde:  \n",
    "   - La columna `family_members` sea **menor a 1,000**.  \n",
    "   - La columna `region` sea **\"Pacific\"**.  \n",
    "2. Guarda el resultado en un nuevo DataFrame llamado `fam_lt_1k_pac`.  \n",
    "3. Imprime el resultado para visualizar los datos filtrados.  "
   ]
  },
  {
   "cell_type": "code",
   "execution_count": null,
   "metadata": {},
   "outputs": [],
   "source": [
    "fam_lt_1k_pac = (\n",
    "    homelessness[(homelessness['family_members'] < 1000) & (homelessness['region'] == 'Pacific')]\n",
    ")\n",
    "\n",
    "print(fam_lt_1k_pac)"
   ]
  },
  {
   "cell_type": "markdown",
   "metadata": {},
   "source": [
    "## **Filtrado de filas por variables categóricas**\n",
    "\n",
    "Filtrar datos basados en una variable categórica a menudo implica usar el operador **\"or\"** (`|`) para seleccionar filas de múltiples categorías. Sin embargo, esto puede volverse tedioso cuando deseas incluir varias categorías al mismo tiempo.  \n",
    "\n",
    "Para simplificar el proceso, puedes utilizar el método `.isin()`, el cual permite aplicar una única condición en lugar de escribir varias condiciones separadas.  \n",
    "\n",
    "```python\n",
    "colors = [\"brown\", \"black\", \"tan\"]\n",
    "condition = dogs[\"color\"].isin(colors)\n",
    "dogs[condition]\n",
    "\n",
    "Esto seleccionará todas las filas donde la columna \"color\" tenga uno de los valores en la lista [\"brown\", \"black\", \"tan\"]."
   ]
  },
  {
   "cell_type": "markdown",
   "metadata": {},
   "source": [
    "### **Filtrar `homelessness` para las regiones \"South Atlantic\" o \"Mid-Atlantic\"**  \n",
    "\n",
    "1. Filtra el DataFrame `homelessness` para incluir solo los casos donde la columna `region` sea **\"South Atlantic\"** o **\"Mid-Atlantic\"**.  \n",
    "2. Guarda el resultado en un nuevo DataFrame llamado `south_mid_atlantic`.  \n",
    "3. Imprime el resultado para visualizar los datos filtrados.  "
   ]
  },
  {
   "cell_type": "code",
   "execution_count": null,
   "metadata": {},
   "outputs": [],
   "source": [
    "south_mid_atlantic = (\n",
    "    homelessness[(homelessness['region'] == 'South Atlantic') | (homelessness['region'] == 'Mid-Atlantic')]\n",
    ")\n",
    "\n",
    "print(south_mid_atlantic)"
   ]
  },
  {
   "cell_type": "markdown",
   "metadata": {},
   "source": [
    "### **Filtrar `homelessness` para los estados de Mojave (`canu`)**  \n",
    "\n",
    "1. Filtra el DataFrame `homelessness` para incluir solo los casos donde la columna `state` esté en la lista de **estados de Mojave**, denominada `canu`.  \n",
    "2. Guarda el resultado en un nuevo DataFrame llamado `mojave_homelessness`.  \n",
    "3. Imprime el resultado para visualizar los datos filtrados. "
   ]
  },
  {
   "cell_type": "code",
   "execution_count": null,
   "metadata": {},
   "outputs": [],
   "source": [
    "canu = [\"California\", \"Arizona\", \"Nevada\", \"Utah\"]\n",
    "\n",
    "mojave_homelessness = (\n",
    "    homelessness[homelessness['state'].isin(canu)]\n",
    ")\n",
    "\n",
    "print(mojave_homelessness)"
   ]
  },
  {
   "cell_type": "markdown",
   "metadata": {},
   "source": [
    "## **Agregar nuevas columnas**\n",
    "\n",
    "No estás limitado a los datos que te proporcionan. En su lugar, puedes agregar nuevas columnas a un **DataFrame**. Este proceso tiene varios nombres, como **transformación**, **mutación** y **ingeniería de características (feature engineering)**.  \n",
    "\n",
    "Puedes crear nuevas columnas desde cero, pero también es común derivarlas a partir de otras columnas, por ejemplo, sumando valores de diferentes columnas o cambiando sus unidades.  "
   ]
  },
  {
   "cell_type": "markdown",
   "metadata": {},
   "source": [
    "### **Agregar nuevas columnas a `homelessness`**  \n",
    "\n",
    "1. **Agregar una nueva columna llamada `total`**  \n",
    "   - Contendrá la suma de las columnas `individuals` y `family_members`, representando el total de personas sin hogar en cada estado.  \n",
    "\n",
    "2. **Agregar otra columna llamada `p_individuals`**  \n",
    "   - Contendrá la proporción de personas sin hogar que son individuos, calculada como:  "
   ]
  },
  {
   "cell_type": "code",
   "execution_count": null,
   "metadata": {},
   "outputs": [],
   "source": [
    "homelessness['total'] = (\n",
    "    homelessness['individuals'] \n",
    "    + homelessness['family_members']\n",
    ")\n",
    "\n",
    "homelessness['p_individuals'] = (\n",
    "    homelessness['individuals'] / homelessness['total']\n",
    ")\n",
    "\n",
    "print(homelessness)"
   ]
  }
 ],
 "metadata": {
  "kernelspec": {
   "display_name": "mcd-projectsI2025a",
   "language": "python",
   "name": "python3"
  },
  "language_info": {
   "codemirror_mode": {
    "name": "ipython",
    "version": 3
   },
   "file_extension": ".py",
   "mimetype": "text/x-python",
   "name": "python",
   "nbconvert_exporter": "python",
   "pygments_lexer": "ipython3",
   "version": "3.13.0"
  }
 },
 "nbformat": 4,
 "nbformat_minor": 2
}
