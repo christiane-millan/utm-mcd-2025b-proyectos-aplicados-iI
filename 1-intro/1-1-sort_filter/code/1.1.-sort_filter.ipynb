{
 "cells": [
  {
   "cell_type": "markdown",
   "metadata": {},
   "source": [
    "# **Introducción a los DataFrames**\n",
    "\n",
    "## **Inspeccionando un DataFrame**  \n",
    "\n",
    "Cuando trabajas con un nuevo **DataFrame**, lo primero que debes hacer es explorarlo para entender qué información contiene. Para ello, existen varios métodos y atributos útiles en Pandas:  \n",
    "\n",
    "- **`.head()`**: Devuelve las primeras filas del DataFrame (la \"cabeza\" del DataFrame).  \n",
    "- **`.info()`**: Muestra información sobre cada columna, como el tipo de dato y la cantidad de valores faltantes.  \n",
    "- **`.shape`**: Retorna el número de filas y columnas del DataFrame.  \n",
    "- **`.describe()`**: Calcula estadísticas resumidas para cada columna.  \n",
    "\n",
    "El **DataFrame `homelessness`** contiene estimaciones sobre la población sin hogar en cada estado de EE. UU. en el año 2018.  \n",
    "\n",
    "- La columna **`individual`** representa el número de personas sin hogar que no forman parte de una familia con niños.  \n",
    "- La columna **`family_members`** representa el número de personas sin hogar que sí forman parte de una familia con niños.  \n",
    "- La columna **`state_pop`** representa la población total del estado.  "
   ]
  },
  {
   "cell_type": "code",
   "execution_count": 11,
   "metadata": {},
   "outputs": [],
   "source": [
    "import pandas as pd"
   ]
  },
  {
   "cell_type": "code",
   "execution_count": 12,
   "metadata": {},
   "outputs": [],
   "source": [
    "homelessness = (pd\n",
    "    .read_csv('../../datasets/homelessness.csv')\n",
    ")"
   ]
  },
  {
   "cell_type": "markdown",
   "metadata": {},
   "source": [
    "Imprimir el encabezado de los datos `homelessness`."
   ]
  },
  {
   "cell_type": "code",
   "execution_count": 15,
   "metadata": {},
   "outputs": [
    {
     "data": {
      "text/html": [
       "<div>\n",
       "<style scoped>\n",
       "    .dataframe tbody tr th:only-of-type {\n",
       "        vertical-align: middle;\n",
       "    }\n",
       "\n",
       "    .dataframe tbody tr th {\n",
       "        vertical-align: top;\n",
       "    }\n",
       "\n",
       "    .dataframe thead th {\n",
       "        text-align: right;\n",
       "    }\n",
       "</style>\n",
       "<table border=\"1\" class=\"dataframe\">\n",
       "  <thead>\n",
       "    <tr style=\"text-align: right;\">\n",
       "      <th></th>\n",
       "      <th>region</th>\n",
       "      <th>state</th>\n",
       "      <th>individuals</th>\n",
       "      <th>family_members</th>\n",
       "      <th>state_pop</th>\n",
       "    </tr>\n",
       "  </thead>\n",
       "  <tbody>\n",
       "    <tr>\n",
       "      <th>0</th>\n",
       "      <td>East South Central</td>\n",
       "      <td>Alabama</td>\n",
       "      <td>2570.0</td>\n",
       "      <td>864.0</td>\n",
       "      <td>4887681</td>\n",
       "    </tr>\n",
       "    <tr>\n",
       "      <th>1</th>\n",
       "      <td>Pacific</td>\n",
       "      <td>Alaska</td>\n",
       "      <td>1434.0</td>\n",
       "      <td>582.0</td>\n",
       "      <td>735139</td>\n",
       "    </tr>\n",
       "    <tr>\n",
       "      <th>2</th>\n",
       "      <td>Mountain</td>\n",
       "      <td>Arizona</td>\n",
       "      <td>7259.0</td>\n",
       "      <td>2606.0</td>\n",
       "      <td>7158024</td>\n",
       "    </tr>\n",
       "    <tr>\n",
       "      <th>3</th>\n",
       "      <td>West South Central</td>\n",
       "      <td>Arkansas</td>\n",
       "      <td>2280.0</td>\n",
       "      <td>432.0</td>\n",
       "      <td>3009733</td>\n",
       "    </tr>\n",
       "    <tr>\n",
       "      <th>4</th>\n",
       "      <td>Pacific</td>\n",
       "      <td>California</td>\n",
       "      <td>109008.0</td>\n",
       "      <td>20964.0</td>\n",
       "      <td>39461588</td>\n",
       "    </tr>\n",
       "  </tbody>\n",
       "</table>\n",
       "</div>"
      ],
      "text/plain": [
       "               region       state  individuals  family_members  state_pop\n",
       "0  East South Central     Alabama       2570.0           864.0    4887681\n",
       "1             Pacific      Alaska       1434.0           582.0     735139\n",
       "2            Mountain     Arizona       7259.0          2606.0    7158024\n",
       "3  West South Central    Arkansas       2280.0           432.0    3009733\n",
       "4             Pacific  California     109008.0         20964.0   39461588"
      ]
     },
     "execution_count": 15,
     "metadata": {},
     "output_type": "execute_result"
    }
   ],
   "source": [
    "(\n",
    "    homelessness\n",
    "    .head()\n",
    ")"
   ]
  },
  {
   "cell_type": "markdown",
   "metadata": {},
   "source": [
    "### **Imprimir el número de filas y columnas en `homelessness`**  \n",
    "\n",
    "Imprime información sobre los tipos de columnas y los valores faltantes en el DataFrame `homelessness`.  "
   ]
  },
  {
   "cell_type": "code",
   "execution_count": 14,
   "metadata": {},
   "outputs": [
    {
     "name": "stdout",
     "output_type": "stream",
     "text": [
      "<class 'pandas.core.frame.DataFrame'>\n",
      "RangeIndex: 51 entries, 0 to 50\n",
      "Data columns (total 5 columns):\n",
      " #   Column          Non-Null Count  Dtype  \n",
      "---  ------          --------------  -----  \n",
      " 0   region          51 non-null     object \n",
      " 1   state           51 non-null     object \n",
      " 2   individuals     51 non-null     float64\n",
      " 3   family_members  51 non-null     float64\n",
      " 4   state_pop       51 non-null     int64  \n",
      "dtypes: float64(2), int64(1), object(2)\n",
      "memory usage: 2.1+ KB\n"
     ]
    }
   ],
   "source": [
    "( \n",
    "    homelessness\n",
    "    .info()\n",
    ")"
   ]
  },
  {
   "cell_type": "markdown",
   "metadata": {},
   "source": [
    "Muestra la cantidad de filas y columnas en el DataFrame `homelessness`.  "
   ]
  },
  {
   "cell_type": "code",
   "execution_count": 16,
   "metadata": {},
   "outputs": [
    {
     "data": {
      "text/plain": [
       "(51, 5)"
      ]
     },
     "execution_count": 16,
     "metadata": {},
     "output_type": "execute_result"
    }
   ],
   "source": [
    "(\n",
    "    homelessness\n",
    "    .shape\n",
    ")"
   ]
  },
  {
   "cell_type": "markdown",
   "metadata": {},
   "source": [
    "### **Imprimir estadísticas resumidas del DataFrame `homelessness`**  \n",
    "\n",
    "Muestra algunas estadísticas descriptivas que resumen los datos en el DataFrame `homelessness`.  "
   ]
  },
  {
   "cell_type": "code",
   "execution_count": 17,
   "metadata": {},
   "outputs": [
    {
     "data": {
      "text/html": [
       "<div>\n",
       "<style scoped>\n",
       "    .dataframe tbody tr th:only-of-type {\n",
       "        vertical-align: middle;\n",
       "    }\n",
       "\n",
       "    .dataframe tbody tr th {\n",
       "        vertical-align: top;\n",
       "    }\n",
       "\n",
       "    .dataframe thead th {\n",
       "        text-align: right;\n",
       "    }\n",
       "</style>\n",
       "<table border=\"1\" class=\"dataframe\">\n",
       "  <thead>\n",
       "    <tr style=\"text-align: right;\">\n",
       "      <th></th>\n",
       "      <th>individuals</th>\n",
       "      <th>family_members</th>\n",
       "      <th>state_pop</th>\n",
       "    </tr>\n",
       "  </thead>\n",
       "  <tbody>\n",
       "    <tr>\n",
       "      <th>count</th>\n",
       "      <td>51.000000</td>\n",
       "      <td>51.000000</td>\n",
       "      <td>5.100000e+01</td>\n",
       "    </tr>\n",
       "    <tr>\n",
       "      <th>mean</th>\n",
       "      <td>7225.784314</td>\n",
       "      <td>3504.882353</td>\n",
       "      <td>6.405637e+06</td>\n",
       "    </tr>\n",
       "    <tr>\n",
       "      <th>std</th>\n",
       "      <td>15991.025083</td>\n",
       "      <td>7805.411811</td>\n",
       "      <td>7.327258e+06</td>\n",
       "    </tr>\n",
       "    <tr>\n",
       "      <th>min</th>\n",
       "      <td>434.000000</td>\n",
       "      <td>75.000000</td>\n",
       "      <td>5.776010e+05</td>\n",
       "    </tr>\n",
       "    <tr>\n",
       "      <th>25%</th>\n",
       "      <td>1446.500000</td>\n",
       "      <td>592.000000</td>\n",
       "      <td>1.777414e+06</td>\n",
       "    </tr>\n",
       "    <tr>\n",
       "      <th>50%</th>\n",
       "      <td>3082.000000</td>\n",
       "      <td>1482.000000</td>\n",
       "      <td>4.461153e+06</td>\n",
       "    </tr>\n",
       "    <tr>\n",
       "      <th>75%</th>\n",
       "      <td>6781.500000</td>\n",
       "      <td>3196.000000</td>\n",
       "      <td>7.340946e+06</td>\n",
       "    </tr>\n",
       "    <tr>\n",
       "      <th>max</th>\n",
       "      <td>109008.000000</td>\n",
       "      <td>52070.000000</td>\n",
       "      <td>3.946159e+07</td>\n",
       "    </tr>\n",
       "  </tbody>\n",
       "</table>\n",
       "</div>"
      ],
      "text/plain": [
       "         individuals  family_members     state_pop\n",
       "count      51.000000       51.000000  5.100000e+01\n",
       "mean     7225.784314     3504.882353  6.405637e+06\n",
       "std     15991.025083     7805.411811  7.327258e+06\n",
       "min       434.000000       75.000000  5.776010e+05\n",
       "25%      1446.500000      592.000000  1.777414e+06\n",
       "50%      3082.000000     1482.000000  4.461153e+06\n",
       "75%      6781.500000     3196.000000  7.340946e+06\n",
       "max    109008.000000    52070.000000  3.946159e+07"
      ]
     },
     "execution_count": 17,
     "metadata": {},
     "output_type": "execute_result"
    }
   ],
   "source": [
    "\n",
    "(\n",
    "    homelessness\n",
    "    .describe()\n",
    ")\n"
   ]
  },
  {
   "cell_type": "markdown",
   "metadata": {},
   "source": [
    "## **Partes de un DataFrame**  \n",
    "\n",
    "Para comprender mejor los objetos **DataFrame**, es útil saber que están compuestos por tres elementos principales, almacenados como atributos:  \n",
    "\n",
    "- **`.values`**: Un array bidimensional de NumPy que contiene los valores.  \n",
    "- **`.columns`**: Un índice de columnas que almacena los nombres de las columnas.  \n",
    "- **`.index`**: Un índice para las filas, que puede ser una numeración de filas o nombres de filas.  \n",
    "\n",
    "Por lo general, puedes pensar en los **índices** como una lista de cadenas o números, aunque el tipo de dato **Index de Pandas** permite opciones más avanzadas. (Estos conceptos se explicarán más adelante en el curso).  "
   ]
  },
  {
   "cell_type": "markdown",
   "metadata": {},
   "source": [
    "### **Explorar los atributos de `homelessness`**  \n",
    "\n",
    "1. **Imprimir un array bidimensional de NumPy** con los valores en `homelessness`.  \n",
    "2. **Imprimir los nombres de las columnas** en `homelessness`.  \n",
    "3. **Imprimir el índice** del DataFrame `homelessness`.  "
   ]
  },
  {
   "cell_type": "code",
   "execution_count": 20,
   "metadata": {},
   "outputs": [
    {
     "data": {
      "text/plain": [
       "array([['East South Central', 'Alabama', 2570.0, 864.0, 4887681],\n",
       "       ['Pacific', 'Alaska', 1434.0, 582.0, 735139],\n",
       "       ['Mountain', 'Arizona', 7259.0, 2606.0, 7158024],\n",
       "       ['West South Central', 'Arkansas', 2280.0, 432.0, 3009733],\n",
       "       ['Pacific', 'California', 109008.0, 20964.0, 39461588],\n",
       "       ['Mountain', 'Colorado', 7607.0, 3250.0, 5691287],\n",
       "       ['New England', 'Connecticut', 2280.0, 1696.0, 3571520],\n",
       "       ['South Atlantic', 'Delaware', 708.0, 374.0, 965479],\n",
       "       ['South Atlantic', 'District of Columbia', 3770.0, 3134.0, 701547],\n",
       "       ['South Atlantic', 'Florida', 21443.0, 9587.0, 21244317],\n",
       "       ['South Atlantic', 'Georgia', 6943.0, 2556.0, 10511131],\n",
       "       ['Pacific', 'Hawaii', 4131.0, 2399.0, 1420593],\n",
       "       ['Mountain', 'Idaho', 1297.0, 715.0, 1750536],\n",
       "       ['East North Central', 'Illinois', 6752.0, 3891.0, 12723071],\n",
       "       ['East North Central', 'Indiana', 3776.0, 1482.0, 6695497],\n",
       "       ['West North Central', 'Iowa', 1711.0, 1038.0, 3148618],\n",
       "       ['West North Central', 'Kansas', 1443.0, 773.0, 2911359],\n",
       "       ['East South Central', 'Kentucky', 2735.0, 953.0, 4461153],\n",
       "       ['West South Central', 'Louisiana', 2540.0, 519.0, 4659690],\n",
       "       ['New England', 'Maine', 1450.0, 1066.0, 1339057],\n",
       "       ['South Atlantic', 'Maryland', 4914.0, 2230.0, 6035802],\n",
       "       ['New England', 'Massachusetts', 6811.0, 13257.0, 6882635],\n",
       "       ['East North Central', 'Michigan', 5209.0, 3142.0, 9984072],\n",
       "       ['West North Central', 'Minnesota', 3993.0, 3250.0, 5606249],\n",
       "       ['East South Central', 'Mississippi', 1024.0, 328.0, 2981020],\n",
       "       ['West North Central', 'Missouri', 3776.0, 2107.0, 6121623],\n",
       "       ['Mountain', 'Montana', 983.0, 422.0, 1060665],\n",
       "       ['West North Central', 'Nebraska', 1745.0, 676.0, 1925614],\n",
       "       ['Mountain', 'Nevada', 7058.0, 486.0, 3027341],\n",
       "       ['New England', 'New Hampshire', 835.0, 615.0, 1353465],\n",
       "       ['Mid-Atlantic', 'New Jersey', 6048.0, 3350.0, 8886025],\n",
       "       ['Mountain', 'New Mexico', 1949.0, 602.0, 2092741],\n",
       "       ['Mid-Atlantic', 'New York', 39827.0, 52070.0, 19530351],\n",
       "       ['South Atlantic', 'North Carolina', 6451.0, 2817.0, 10381615],\n",
       "       ['West North Central', 'North Dakota', 467.0, 75.0, 758080],\n",
       "       ['East North Central', 'Ohio', 6929.0, 3320.0, 11676341],\n",
       "       ['West South Central', 'Oklahoma', 2823.0, 1048.0, 3940235],\n",
       "       ['Pacific', 'Oregon', 11139.0, 3337.0, 4181886],\n",
       "       ['Mid-Atlantic', 'Pennsylvania', 8163.0, 5349.0, 12800922],\n",
       "       ['New England', 'Rhode Island', 747.0, 354.0, 1058287],\n",
       "       ['South Atlantic', 'South Carolina', 3082.0, 851.0, 5084156],\n",
       "       ['West North Central', 'South Dakota', 836.0, 323.0, 878698],\n",
       "       ['East South Central', 'Tennessee', 6139.0, 1744.0, 6771631],\n",
       "       ['West South Central', 'Texas', 19199.0, 6111.0, 28628666],\n",
       "       ['Mountain', 'Utah', 1904.0, 972.0, 3153550],\n",
       "       ['New England', 'Vermont', 780.0, 511.0, 624358],\n",
       "       ['South Atlantic', 'Virginia', 3928.0, 2047.0, 8501286],\n",
       "       ['Pacific', 'Washington', 16424.0, 5880.0, 7523869],\n",
       "       ['South Atlantic', 'West Virginia', 1021.0, 222.0, 1804291],\n",
       "       ['East North Central', 'Wisconsin', 2740.0, 2167.0, 5807406],\n",
       "       ['Mountain', 'Wyoming', 434.0, 205.0, 577601]], dtype=object)"
      ]
     },
     "execution_count": 20,
     "metadata": {},
     "output_type": "execute_result"
    }
   ],
   "source": [
    "(\n",
    "    homelessness\n",
    "    .values\n",
    ")\n"
   ]
  },
  {
   "cell_type": "code",
   "execution_count": 21,
   "metadata": {},
   "outputs": [
    {
     "data": {
      "text/plain": [
       "Index(['region', 'state', 'individuals', 'family_members', 'state_pop'], dtype='object')"
      ]
     },
     "execution_count": 21,
     "metadata": {},
     "output_type": "execute_result"
    }
   ],
   "source": [
    "(\n",
    "    homelessness\n",
    "    .columns\n",
    ")\n"
   ]
  },
  {
   "cell_type": "code",
   "execution_count": 22,
   "metadata": {},
   "outputs": [
    {
     "data": {
      "text/plain": [
       "RangeIndex(start=0, stop=51, step=1)"
      ]
     },
     "execution_count": 22,
     "metadata": {},
     "output_type": "execute_result"
    }
   ],
   "source": [
    "(\n",
    "    homelessness\n",
    "    .index\n",
    ")"
   ]
  },
  {
   "cell_type": "markdown",
   "metadata": {},
   "source": [
    "# **Ordenamiento y filtrado**\n",
    "\n",
    "## **Ordenar filas**\n",
    "\n",
    "Encontrar información relevante en un **DataFrame** suele ser más fácil si cambiamos el orden de las filas. Puedes ordenarlas utilizando el método `.sort_values()`, pasando el nombre de la columna como argumento.  \n",
    "\n",
    "En casos donde varias filas tienen el mismo valor en la columna de ordenamiento (situación común en variables categóricas), puedes **desempatar** ordenando por otra columna adicional. Para ello, simplemente pasa una lista de nombres de columnas a `.sort_values()`.  \n",
    "\n",
    "| Ordenar por… | Sintaxis |\n",
    "| --- | --- |\n",
    "| Una columna | `df.sort_values(\"breed\")` |\n",
    "| Varias columnas | `df.sort_values([\"breed\", \"weight_kg\"])` |\n",
    "\n",
    "Combinando `.sort_values()` con `.head()`, puedes responder preguntas del tipo:  \n",
    "**\"¿Cuáles son los principales casos en los que…?\"**  \n"
   ]
  },
  {
   "cell_type": "markdown",
   "metadata": {},
   "source": [
    "### **Ordenar `homelessness` por el número de personas sin hogar**\n",
    "\n",
    "1. Ordena el DataFrame `homelessness` por el número de personas sin hogar (`individual`), de menor a mayor, y guarda el resultado en `homelessness_ind`.  \n",
    "2. Imprime las primeras filas del DataFrame ordenado utilizando `.head()`.  "
   ]
  },
  {
   "cell_type": "code",
   "execution_count": 25,
   "metadata": {},
   "outputs": [
    {
     "data": {
      "text/html": [
       "<div>\n",
       "<style scoped>\n",
       "    .dataframe tbody tr th:only-of-type {\n",
       "        vertical-align: middle;\n",
       "    }\n",
       "\n",
       "    .dataframe tbody tr th {\n",
       "        vertical-align: top;\n",
       "    }\n",
       "\n",
       "    .dataframe thead th {\n",
       "        text-align: right;\n",
       "    }\n",
       "</style>\n",
       "<table border=\"1\" class=\"dataframe\">\n",
       "  <thead>\n",
       "    <tr style=\"text-align: right;\">\n",
       "      <th></th>\n",
       "      <th>region</th>\n",
       "      <th>state</th>\n",
       "      <th>individuals</th>\n",
       "      <th>family_members</th>\n",
       "      <th>state_pop</th>\n",
       "    </tr>\n",
       "  </thead>\n",
       "  <tbody>\n",
       "    <tr>\n",
       "      <th>50</th>\n",
       "      <td>Mountain</td>\n",
       "      <td>Wyoming</td>\n",
       "      <td>434.0</td>\n",
       "      <td>205.0</td>\n",
       "      <td>577601</td>\n",
       "    </tr>\n",
       "    <tr>\n",
       "      <th>34</th>\n",
       "      <td>West North Central</td>\n",
       "      <td>North Dakota</td>\n",
       "      <td>467.0</td>\n",
       "      <td>75.0</td>\n",
       "      <td>758080</td>\n",
       "    </tr>\n",
       "    <tr>\n",
       "      <th>7</th>\n",
       "      <td>South Atlantic</td>\n",
       "      <td>Delaware</td>\n",
       "      <td>708.0</td>\n",
       "      <td>374.0</td>\n",
       "      <td>965479</td>\n",
       "    </tr>\n",
       "    <tr>\n",
       "      <th>39</th>\n",
       "      <td>New England</td>\n",
       "      <td>Rhode Island</td>\n",
       "      <td>747.0</td>\n",
       "      <td>354.0</td>\n",
       "      <td>1058287</td>\n",
       "    </tr>\n",
       "    <tr>\n",
       "      <th>45</th>\n",
       "      <td>New England</td>\n",
       "      <td>Vermont</td>\n",
       "      <td>780.0</td>\n",
       "      <td>511.0</td>\n",
       "      <td>624358</td>\n",
       "    </tr>\n",
       "  </tbody>\n",
       "</table>\n",
       "</div>"
      ],
      "text/plain": [
       "                region         state  individuals  family_members  state_pop\n",
       "50            Mountain       Wyoming        434.0           205.0     577601\n",
       "34  West North Central  North Dakota        467.0            75.0     758080\n",
       "7       South Atlantic      Delaware        708.0           374.0     965479\n",
       "39         New England  Rhode Island        747.0           354.0    1058287\n",
       "45         New England       Vermont        780.0           511.0     624358"
      ]
     },
     "execution_count": 25,
     "metadata": {},
     "output_type": "execute_result"
    }
   ],
   "source": [
    "homelessness_ind = (\n",
    "    homelessness\n",
    "    .sort_values('individuals')\n",
    ")\n",
    "\n",
    "print(homelessness_ind.head())"
   ]
  },
  {
   "cell_type": "markdown",
   "metadata": {},
   "source": [
    "### **Ordenar `homelessness` por el número de miembros de familias sin hogar**\n",
    "\n",
    "1. Ordena el DataFrame `homelessness` por el número de **miembros de familias sin hogar** (`family_members`) en **orden descendente** y guarda el resultado en `homelessness_fam`.  \n",
    "2. Imprime las primeras filas del DataFrame ordenado utilizando `.head()`.  "
   ]
  },
  {
   "cell_type": "code",
   "execution_count": 27,
   "metadata": {},
   "outputs": [
    {
     "data": {
      "text/html": [
       "<div>\n",
       "<style scoped>\n",
       "    .dataframe tbody tr th:only-of-type {\n",
       "        vertical-align: middle;\n",
       "    }\n",
       "\n",
       "    .dataframe tbody tr th {\n",
       "        vertical-align: top;\n",
       "    }\n",
       "\n",
       "    .dataframe thead th {\n",
       "        text-align: right;\n",
       "    }\n",
       "</style>\n",
       "<table border=\"1\" class=\"dataframe\">\n",
       "  <thead>\n",
       "    <tr style=\"text-align: right;\">\n",
       "      <th></th>\n",
       "      <th>region</th>\n",
       "      <th>state</th>\n",
       "      <th>individuals</th>\n",
       "      <th>family_members</th>\n",
       "      <th>state_pop</th>\n",
       "    </tr>\n",
       "  </thead>\n",
       "  <tbody>\n",
       "    <tr>\n",
       "      <th>32</th>\n",
       "      <td>Mid-Atlantic</td>\n",
       "      <td>New York</td>\n",
       "      <td>39827.0</td>\n",
       "      <td>52070.0</td>\n",
       "      <td>19530351</td>\n",
       "    </tr>\n",
       "    <tr>\n",
       "      <th>4</th>\n",
       "      <td>Pacific</td>\n",
       "      <td>California</td>\n",
       "      <td>109008.0</td>\n",
       "      <td>20964.0</td>\n",
       "      <td>39461588</td>\n",
       "    </tr>\n",
       "    <tr>\n",
       "      <th>21</th>\n",
       "      <td>New England</td>\n",
       "      <td>Massachusetts</td>\n",
       "      <td>6811.0</td>\n",
       "      <td>13257.0</td>\n",
       "      <td>6882635</td>\n",
       "    </tr>\n",
       "    <tr>\n",
       "      <th>9</th>\n",
       "      <td>South Atlantic</td>\n",
       "      <td>Florida</td>\n",
       "      <td>21443.0</td>\n",
       "      <td>9587.0</td>\n",
       "      <td>21244317</td>\n",
       "    </tr>\n",
       "    <tr>\n",
       "      <th>43</th>\n",
       "      <td>West South Central</td>\n",
       "      <td>Texas</td>\n",
       "      <td>19199.0</td>\n",
       "      <td>6111.0</td>\n",
       "      <td>28628666</td>\n",
       "    </tr>\n",
       "  </tbody>\n",
       "</table>\n",
       "</div>"
      ],
      "text/plain": [
       "                region          state  individuals  family_members  state_pop\n",
       "32        Mid-Atlantic       New York      39827.0         52070.0   19530351\n",
       "4              Pacific     California     109008.0         20964.0   39461588\n",
       "21         New England  Massachusetts       6811.0         13257.0    6882635\n",
       "9       South Atlantic        Florida      21443.0          9587.0   21244317\n",
       "43  West South Central          Texas      19199.0          6111.0   28628666"
      ]
     },
     "execution_count": 27,
     "metadata": {},
     "output_type": "execute_result"
    }
   ],
   "source": [
    "homelessness_fam = (\n",
    "    homelessness\n",
    "    .sort_values(\n",
    "        'family_members', \n",
    "        ascending=False\n",
    "    )\n",
    ")\n",
    "\n",
    "print(homelessness_fam.head())"
   ]
  },
  {
   "cell_type": "markdown",
   "metadata": {},
   "source": [
    "### **Ordenar `homelessness` por región y número de miembros de familias sin hogar**\n",
    "\n",
    "1. Ordena el DataFrame `homelessness` primero por **región** en **orden ascendente**, y luego por el número de **miembros de familias sin hogar** (`family_members`) en **orden descendente**.  \n",
    "2. Guarda el resultado en `homelessness_reg_fam`.  \n",
    "3. Imprime las primeras filas del DataFrame ordenado utilizando `.head()`.  "
   ]
  },
  {
   "cell_type": "code",
   "execution_count": 28,
   "metadata": {},
   "outputs": [
    {
     "name": "stdout",
     "output_type": "stream",
     "text": [
      "                region      state  individuals  family_members  state_pop\n",
      "13  East North Central   Illinois       6752.0          3891.0   12723071\n",
      "35  East North Central       Ohio       6929.0          3320.0   11676341\n",
      "22  East North Central   Michigan       5209.0          3142.0    9984072\n",
      "49  East North Central  Wisconsin       2740.0          2167.0    5807406\n",
      "14  East North Central    Indiana       3776.0          1482.0    6695497\n"
     ]
    }
   ],
   "source": [
    "homelessness_reg_fam = (\n",
    "    homelessness\n",
    "    .sort_values(\n",
    "        ['region', 'family_members'], \n",
    "        ascending=[True, False]\n",
    "    )\n",
    ")\n",
    "\n",
    "print(homelessness_reg_fam.head())"
   ]
  },
  {
   "cell_type": "markdown",
   "metadata": {},
   "source": [
    "Aquí tienes la traducción en formato Markdown:\n",
    "\n",
    "# **Filtrado de columnas**\n",
    "\n",
    "Al trabajar con datos, es posible que no necesites todas las variables de tu conjunto de datos. Puedes utilizar corchetes (`[]`) para seleccionar únicamente las columnas que te interesan, en el orden que prefieras.  \n",
    "\n",
    "Para seleccionar solo la columna `\"col_a\"` del DataFrame `df`, usa:  \n",
    "\n",
    "```python\n",
    "df[\"col_a\"]\n",
    "\n",
    "Para seleccionar las columnas \"col_a\" y \"col_b\" de df, usa:\n",
    "\n",
    "df[[\"col_a\", \"col_b\"]]"
   ]
  },
  {
   "cell_type": "markdown",
   "metadata": {},
   "source": [
    "### **Seleccionar la columna `individuals` del DataFrame `homelessness`**\n",
    "\n",
    "1. Crea un nuevo DataFrame llamado `individuals` que contenga solo la columna `individuals` del DataFrame `homelessness`.  \n",
    "2. Imprime las primeras filas del resultado utilizando `.head()`.  "
   ]
  },
  {
   "cell_type": "code",
   "execution_count": 29,
   "metadata": {},
   "outputs": [
    {
     "name": "stdout",
     "output_type": "stream",
     "text": [
      "   individuals\n",
      "0       2570.0\n",
      "1       1434.0\n",
      "2       7259.0\n",
      "3       2280.0\n",
      "4     109008.0\n"
     ]
    }
   ],
   "source": [
    "individuals = (\n",
    "    homelessness[['individuals']]\n",
    ")\n",
    "\n",
    "print(individuals.head())"
   ]
  },
  {
   "cell_type": "markdown",
   "metadata": {},
   "source": [
    "### **Seleccionar las columnas `state` y `family_members` del DataFrame `homelessness`**\n",
    "\n",
    "1. Crea un nuevo DataFrame llamado `state_fam` que contenga únicamente las columnas `state` y `family_members` del DataFrame `homelessness`, en ese orden.  \n",
    "2. Imprime las primeras filas del resultado utilizando `.head()`.  "
   ]
  },
  {
   "cell_type": "code",
   "execution_count": 30,
   "metadata": {},
   "outputs": [
    {
     "name": "stdout",
     "output_type": "stream",
     "text": [
      "        state  family_members\n",
      "0     Alabama           864.0\n",
      "1      Alaska           582.0\n",
      "2     Arizona          2606.0\n",
      "3    Arkansas           432.0\n",
      "4  California         20964.0\n"
     ]
    }
   ],
   "source": [
    "state_fam = (\n",
    "    homelessness[['state', 'family_members']]\n",
    ")\n",
    "\n",
    "print(state_fam.head())"
   ]
  },
  {
   "cell_type": "markdown",
   "metadata": {},
   "source": [
    "### **Seleccionar las columnas `individuals` y `state` del DataFrame `homelessness`**\n",
    "\n",
    "1. Crea un nuevo DataFrame llamado `ind_state` que contenga únicamente las columnas `individuals` y `state` del DataFrame `homelessness`, en ese orden.  \n",
    "2. Imprime las primeras filas del resultado utilizando `.head()`.  "
   ]
  },
  {
   "cell_type": "code",
   "execution_count": 31,
   "metadata": {},
   "outputs": [
    {
     "name": "stdout",
     "output_type": "stream",
     "text": [
      "   individuals       state\n",
      "0       2570.0     Alabama\n",
      "1       1434.0      Alaska\n",
      "2       7259.0     Arizona\n",
      "3       2280.0    Arkansas\n",
      "4     109008.0  California\n"
     ]
    }
   ],
   "source": [
    "ind_state = (\n",
    "    homelessness[\n",
    "        [\n",
    "            'individuals', \n",
    "            'state'\n",
    "        ]\n",
    "    ]\n",
    ")\n",
    "\n",
    "print(ind_state.head())"
   ]
  },
  {
   "cell_type": "markdown",
   "metadata": {},
   "source": [
    "## **Filtrado de filas (Subsetting rows)**  \n",
    "\n",
    "Una gran parte de la ciencia de datos consiste en identificar qué partes del conjunto de datos son **interesantes**. Una de las técnicas más simples para esto es encontrar un **subconjunto de filas** que cumplan con ciertos criterios. A este proceso también se le conoce como **filtrado de filas** o **selección de filas**.  \n",
    "\n",
    "Existen varias formas de filtrar un DataFrame, pero la más común es utilizar **operadores relacionales** para obtener valores `True` o `False` para cada fila, y luego pasar este resultado dentro de corchetes (`[]`).  \n",
    "\n",
    "```python\n",
    "dogs[dogs[\"height_cm\"] > 60]\n",
    "dogs[dogs[\"color\"] == \"tan\"]\n",
    "\n",
    "Si deseas filtrar múltiples condiciones al mismo tiempo, puedes utilizar el operador “bitwise and” (&):\n",
    "\n",
    "dogs[(dogs[\"height_cm\"] > 60) & (dogs[\"color\"] == \"tan\")]\n",
    "\n"
   ]
  },
  {
   "cell_type": "markdown",
   "metadata": {},
   "source": [
    "### **Filtrar `homelessness` para casos con más de 10,000 individuos sin hogar**  \n",
    "\n",
    "1. Filtra el DataFrame `homelessness` para incluir solo los casos donde la columna `individuals` sea **mayor a 10,000**.  \n",
    "2. Guarda el resultado en un nuevo DataFrame llamado `ind_gt_10k`.  \n",
    "3. Imprime el resultado para visualizar los datos filtrados.  "
   ]
  },
  {
   "cell_type": "code",
   "execution_count": 32,
   "metadata": {},
   "outputs": [
    {
     "name": "stdout",
     "output_type": "stream",
     "text": [
      "                region       state  individuals  family_members  state_pop\n",
      "4              Pacific  California     109008.0         20964.0   39461588\n",
      "9       South Atlantic     Florida      21443.0          9587.0   21244317\n",
      "32        Mid-Atlantic    New York      39827.0         52070.0   19530351\n",
      "37             Pacific      Oregon      11139.0          3337.0    4181886\n",
      "43  West South Central       Texas      19199.0          6111.0   28628666\n",
      "47             Pacific  Washington      16424.0          5880.0    7523869\n"
     ]
    }
   ],
   "source": [
    "ind_gt_10k = (\n",
    "    homelessness[homelessness['individuals'] > 10000]\n",
    ")\n",
    "\n",
    "print(ind_gt_10k)"
   ]
  },
  {
   "cell_type": "markdown",
   "metadata": {},
   "source": [
    "### **Filtrar `homelessness` para la región del censo de EE. UU. `\"Mountain\"`**  \n",
    "\n",
    "1. Filtra el DataFrame `homelessness` para incluir solo los casos donde la columna `region` sea `\"Mountain\"`.  \n",
    "2. Guarda el resultado en un nuevo DataFrame llamado `mountain_reg`.  \n",
    "3. Imprime el resultado para visualizar los datos filtrados.  "
   ]
  },
  {
   "cell_type": "code",
   "execution_count": 33,
   "metadata": {},
   "outputs": [
    {
     "name": "stdout",
     "output_type": "stream",
     "text": [
      "      region       state  individuals  family_members  state_pop\n",
      "2   Mountain     Arizona       7259.0          2606.0    7158024\n",
      "5   Mountain    Colorado       7607.0          3250.0    5691287\n",
      "12  Mountain       Idaho       1297.0           715.0    1750536\n",
      "26  Mountain     Montana        983.0           422.0    1060665\n",
      "28  Mountain      Nevada       7058.0           486.0    3027341\n",
      "31  Mountain  New Mexico       1949.0           602.0    2092741\n",
      "44  Mountain        Utah       1904.0           972.0    3153550\n",
      "50  Mountain     Wyoming        434.0           205.0     577601\n"
     ]
    }
   ],
   "source": [
    "mountain_reg = (\n",
    "    homelessness[\n",
    "        homelessness['region'] == 'Mountain'\n",
    "    ]\n",
    ")\n",
    "\n",
    "print(mountain_reg)"
   ]
  },
  {
   "cell_type": "markdown",
   "metadata": {},
   "source": [
    "### **Filtrar `homelessness` para casos con menos de 1,000 miembros de familia en la región \"Pacific\"**  \n",
    "\n",
    "1. Filtra el DataFrame `homelessness` para incluir solo los casos donde:  \n",
    "   - La columna `family_members` sea **menor a 1,000**.  \n",
    "   - La columna `region` sea **\"Pacific\"**.  \n",
    "2. Guarda el resultado en un nuevo DataFrame llamado `fam_lt_1k_pac`.  \n",
    "3. Imprime el resultado para visualizar los datos filtrados.  "
   ]
  },
  {
   "cell_type": "code",
   "execution_count": 34,
   "metadata": {},
   "outputs": [
    {
     "name": "stdout",
     "output_type": "stream",
     "text": [
      "    region   state  individuals  family_members  state_pop\n",
      "1  Pacific  Alaska       1434.0           582.0     735139\n"
     ]
    }
   ],
   "source": [
    "fam_lt_1k_pac = (\n",
    "    homelessness[(homelessness['family_members'] < 1000) & (homelessness['region'] == 'Pacific')]\n",
    ")\n",
    "\n",
    "print(fam_lt_1k_pac)"
   ]
  },
  {
   "cell_type": "markdown",
   "metadata": {},
   "source": [
    "## **Filtrado de filas por variables categóricas**\n",
    "\n",
    "Filtrar datos basados en una variable categórica a menudo implica usar el operador **\"or\"** (`|`) para seleccionar filas de múltiples categorías. Sin embargo, esto puede volverse tedioso cuando deseas incluir varias categorías al mismo tiempo.  \n",
    "\n",
    "Para simplificar el proceso, puedes utilizar el método `.isin()`, el cual permite aplicar una única condición en lugar de escribir varias condiciones separadas.  \n",
    "\n",
    "```python\n",
    "colors = [\"brown\", \"black\", \"tan\"]\n",
    "condition = dogs[\"color\"].isin(colors)\n",
    "dogs[condition]\n",
    "\n",
    "Esto seleccionará todas las filas donde la columna \"color\" tenga uno de los valores en la lista [\"brown\", \"black\", \"tan\"]."
   ]
  },
  {
   "cell_type": "markdown",
   "metadata": {},
   "source": [
    "### **Filtrar `homelessness` para las regiones \"South Atlantic\" o \"Mid-Atlantic\"**  \n",
    "\n",
    "1. Filtra el DataFrame `homelessness` para incluir solo los casos donde la columna `region` sea **\"South Atlantic\"** o **\"Mid-Atlantic\"**.  \n",
    "2. Guarda el resultado en un nuevo DataFrame llamado `south_mid_atlantic`.  \n",
    "3. Imprime el resultado para visualizar los datos filtrados.  "
   ]
  },
  {
   "cell_type": "code",
   "execution_count": 35,
   "metadata": {},
   "outputs": [
    {
     "name": "stdout",
     "output_type": "stream",
     "text": [
      "            region                 state  individuals  family_members  \\\n",
      "7   South Atlantic              Delaware        708.0           374.0   \n",
      "8   South Atlantic  District of Columbia       3770.0          3134.0   \n",
      "9   South Atlantic               Florida      21443.0          9587.0   \n",
      "10  South Atlantic               Georgia       6943.0          2556.0   \n",
      "20  South Atlantic              Maryland       4914.0          2230.0   \n",
      "30    Mid-Atlantic            New Jersey       6048.0          3350.0   \n",
      "32    Mid-Atlantic              New York      39827.0         52070.0   \n",
      "33  South Atlantic        North Carolina       6451.0          2817.0   \n",
      "38    Mid-Atlantic          Pennsylvania       8163.0          5349.0   \n",
      "40  South Atlantic        South Carolina       3082.0           851.0   \n",
      "46  South Atlantic              Virginia       3928.0          2047.0   \n",
      "48  South Atlantic         West Virginia       1021.0           222.0   \n",
      "\n",
      "    state_pop  \n",
      "7      965479  \n",
      "8      701547  \n",
      "9    21244317  \n",
      "10   10511131  \n",
      "20    6035802  \n",
      "30    8886025  \n",
      "32   19530351  \n",
      "33   10381615  \n",
      "38   12800922  \n",
      "40    5084156  \n",
      "46    8501286  \n",
      "48    1804291  \n"
     ]
    }
   ],
   "source": [
    "south_mid_atlantic = (\n",
    "    homelessness[(homelessness['region'] == 'South Atlantic') | (homelessness['region'] == 'Mid-Atlantic')]\n",
    ")\n",
    "\n",
    "print(south_mid_atlantic)"
   ]
  },
  {
   "cell_type": "markdown",
   "metadata": {},
   "source": [
    "### **Filtrar `homelessness` para los estados de Mojave (`canu`)**  \n",
    "\n",
    "1. Filtra el DataFrame `homelessness` para incluir solo los casos donde la columna `state` esté en la lista de **estados de Mojave**, denominada `canu`.  \n",
    "2. Guarda el resultado en un nuevo DataFrame llamado `mojave_homelessness`.  \n",
    "3. Imprime el resultado para visualizar los datos filtrados. "
   ]
  },
  {
   "cell_type": "code",
   "execution_count": 36,
   "metadata": {},
   "outputs": [
    {
     "name": "stdout",
     "output_type": "stream",
     "text": [
      "      region       state  individuals  family_members  state_pop\n",
      "2   Mountain     Arizona       7259.0          2606.0    7158024\n",
      "4    Pacific  California     109008.0         20964.0   39461588\n",
      "28  Mountain      Nevada       7058.0           486.0    3027341\n",
      "44  Mountain        Utah       1904.0           972.0    3153550\n"
     ]
    }
   ],
   "source": [
    "canu = [\"California\", \"Arizona\", \"Nevada\", \"Utah\"]\n",
    "\n",
    "mojave_homelessness = (\n",
    "    homelessness[homelessness['state'].isin(canu)]\n",
    ")\n",
    "\n",
    "print(mojave_homelessness)"
   ]
  },
  {
   "cell_type": "markdown",
   "metadata": {},
   "source": [
    "## **Agregar nuevas columnas**\n",
    "\n",
    "No estás limitado a los datos que te proporcionan. En su lugar, puedes agregar nuevas columnas a un **DataFrame**. Este proceso tiene varios nombres, como **transformación**, **mutación** y **ingeniería de características (feature engineering)**.  \n",
    "\n",
    "Puedes crear nuevas columnas desde cero, pero también es común derivarlas a partir de otras columnas, por ejemplo, sumando valores de diferentes columnas o cambiando sus unidades.  "
   ]
  },
  {
   "cell_type": "markdown",
   "metadata": {},
   "source": [
    "### **Agregar nuevas columnas a `homelessness`**  \n",
    "\n",
    "1. **Agregar una nueva columna llamada `total`**  \n",
    "   - Contendrá la suma de las columnas `individuals` y `family_members`, representando el total de personas sin hogar en cada estado.  \n",
    "\n",
    "2. **Agregar otra columna llamada `p_individuals`**  \n",
    "   - Contendrá la proporción de personas sin hogar que son individuos, calculada como:  "
   ]
  },
  {
   "cell_type": "code",
   "execution_count": 37,
   "metadata": {},
   "outputs": [
    {
     "name": "stdout",
     "output_type": "stream",
     "text": [
      "                region                 state  individuals  family_members  \\\n",
      "0   East South Central               Alabama       2570.0           864.0   \n",
      "1              Pacific                Alaska       1434.0           582.0   \n",
      "2             Mountain               Arizona       7259.0          2606.0   \n",
      "3   West South Central              Arkansas       2280.0           432.0   \n",
      "4              Pacific            California     109008.0         20964.0   \n",
      "5             Mountain              Colorado       7607.0          3250.0   \n",
      "6          New England           Connecticut       2280.0          1696.0   \n",
      "7       South Atlantic              Delaware        708.0           374.0   \n",
      "8       South Atlantic  District of Columbia       3770.0          3134.0   \n",
      "9       South Atlantic               Florida      21443.0          9587.0   \n",
      "10      South Atlantic               Georgia       6943.0          2556.0   \n",
      "11             Pacific                Hawaii       4131.0          2399.0   \n",
      "12            Mountain                 Idaho       1297.0           715.0   \n",
      "13  East North Central              Illinois       6752.0          3891.0   \n",
      "14  East North Central               Indiana       3776.0          1482.0   \n",
      "15  West North Central                  Iowa       1711.0          1038.0   \n",
      "16  West North Central                Kansas       1443.0           773.0   \n",
      "17  East South Central              Kentucky       2735.0           953.0   \n",
      "18  West South Central             Louisiana       2540.0           519.0   \n",
      "19         New England                 Maine       1450.0          1066.0   \n",
      "20      South Atlantic              Maryland       4914.0          2230.0   \n",
      "21         New England         Massachusetts       6811.0         13257.0   \n",
      "22  East North Central              Michigan       5209.0          3142.0   \n",
      "23  West North Central             Minnesota       3993.0          3250.0   \n",
      "24  East South Central           Mississippi       1024.0           328.0   \n",
      "25  West North Central              Missouri       3776.0          2107.0   \n",
      "26            Mountain               Montana        983.0           422.0   \n",
      "27  West North Central              Nebraska       1745.0           676.0   \n",
      "28            Mountain                Nevada       7058.0           486.0   \n",
      "29         New England         New Hampshire        835.0           615.0   \n",
      "30        Mid-Atlantic            New Jersey       6048.0          3350.0   \n",
      "31            Mountain            New Mexico       1949.0           602.0   \n",
      "32        Mid-Atlantic              New York      39827.0         52070.0   \n",
      "33      South Atlantic        North Carolina       6451.0          2817.0   \n",
      "34  West North Central          North Dakota        467.0            75.0   \n",
      "35  East North Central                  Ohio       6929.0          3320.0   \n",
      "36  West South Central              Oklahoma       2823.0          1048.0   \n",
      "37             Pacific                Oregon      11139.0          3337.0   \n",
      "38        Mid-Atlantic          Pennsylvania       8163.0          5349.0   \n",
      "39         New England          Rhode Island        747.0           354.0   \n",
      "40      South Atlantic        South Carolina       3082.0           851.0   \n",
      "41  West North Central          South Dakota        836.0           323.0   \n",
      "42  East South Central             Tennessee       6139.0          1744.0   \n",
      "43  West South Central                 Texas      19199.0          6111.0   \n",
      "44            Mountain                  Utah       1904.0           972.0   \n",
      "45         New England               Vermont        780.0           511.0   \n",
      "46      South Atlantic              Virginia       3928.0          2047.0   \n",
      "47             Pacific            Washington      16424.0          5880.0   \n",
      "48      South Atlantic         West Virginia       1021.0           222.0   \n",
      "49  East North Central             Wisconsin       2740.0          2167.0   \n",
      "50            Mountain               Wyoming        434.0           205.0   \n",
      "\n",
      "    state_pop     total  p_individuals  \n",
      "0     4887681    3434.0       0.748398  \n",
      "1      735139    2016.0       0.711310  \n",
      "2     7158024    9865.0       0.735834  \n",
      "3     3009733    2712.0       0.840708  \n",
      "4    39461588  129972.0       0.838704  \n",
      "5     5691287   10857.0       0.700654  \n",
      "6     3571520    3976.0       0.573441  \n",
      "7      965479    1082.0       0.654344  \n",
      "8      701547    6904.0       0.546060  \n",
      "9    21244317   31030.0       0.691041  \n",
      "10   10511131    9499.0       0.730919  \n",
      "11    1420593    6530.0       0.632619  \n",
      "12    1750536    2012.0       0.644632  \n",
      "13   12723071   10643.0       0.634408  \n",
      "14    6695497    5258.0       0.718144  \n",
      "15    3148618    2749.0       0.622408  \n",
      "16    2911359    2216.0       0.651173  \n",
      "17    4461153    3688.0       0.741594  \n",
      "18    4659690    3059.0       0.830337  \n",
      "19    1339057    2516.0       0.576312  \n",
      "20    6035802    7144.0       0.687850  \n",
      "21    6882635   20068.0       0.339396  \n",
      "22    9984072    8351.0       0.623758  \n",
      "23    5606249    7243.0       0.551291  \n",
      "24    2981020    1352.0       0.757396  \n",
      "25    6121623    5883.0       0.641849  \n",
      "26    1060665    1405.0       0.699644  \n",
      "27    1925614    2421.0       0.720777  \n",
      "28    3027341    7544.0       0.935578  \n",
      "29    1353465    1450.0       0.575862  \n",
      "30    8886025    9398.0       0.643541  \n",
      "31    2092741    2551.0       0.764014  \n",
      "32   19530351   91897.0       0.433387  \n",
      "33   10381615    9268.0       0.696051  \n",
      "34     758080     542.0       0.861624  \n",
      "35   11676341   10249.0       0.676066  \n",
      "36    3940235    3871.0       0.729269  \n",
      "37    4181886   14476.0       0.769481  \n",
      "38   12800922   13512.0       0.604130  \n",
      "39    1058287    1101.0       0.678474  \n",
      "40    5084156    3933.0       0.783626  \n",
      "41     878698    1159.0       0.721311  \n",
      "42    6771631    7883.0       0.778764  \n",
      "43   28628666   25310.0       0.758554  \n",
      "44    3153550    2876.0       0.662031  \n",
      "45     624358    1291.0       0.604183  \n",
      "46    8501286    5975.0       0.657406  \n",
      "47    7523869   22304.0       0.736370  \n",
      "48    1804291    1243.0       0.821400  \n",
      "49    5807406    4907.0       0.558386  \n",
      "50     577601     639.0       0.679186  \n"
     ]
    }
   ],
   "source": [
    "homelessness['total'] = (\n",
    "    homelessness['individuals'] \n",
    "    + homelessness['family_members']\n",
    ")\n",
    "\n",
    "homelessness['p_individuals'] = (\n",
    "    homelessness['individuals'] / homelessness['total']\n",
    ")\n",
    "\n",
    "print(homelessness)"
   ]
  }
 ],
 "metadata": {
  "kernelspec": {
   "display_name": "mcd-projectsI2025a",
   "language": "python",
   "name": "python3"
  },
  "language_info": {
   "codemirror_mode": {
    "name": "ipython",
    "version": 3
   },
   "file_extension": ".py",
   "mimetype": "text/x-python",
   "name": "python",
   "nbconvert_exporter": "python",
   "pygments_lexer": "ipython3",
   "version": "3.13.0"
  }
 },
 "nbformat": 4,
 "nbformat_minor": 2
}
