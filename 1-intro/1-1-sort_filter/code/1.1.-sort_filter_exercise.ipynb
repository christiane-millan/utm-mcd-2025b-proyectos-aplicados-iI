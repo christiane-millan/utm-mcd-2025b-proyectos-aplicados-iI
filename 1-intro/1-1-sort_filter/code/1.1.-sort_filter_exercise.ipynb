{
 "cells": [
  {
   "cell_type": "markdown",
   "metadata": {},
   "source": [
    "# **Ejercicio:** Ordenamiento y Filtrado  \n",
    "\n",
    "Has aprendido las cuatro manipulaciones de datos más comunes:  \n",
    "- **Ordenamiento de filas**  \n",
    "- **Selección de columnas**  \n",
    "-  **Filtrado de filas**  \n",
    "- **Agregar nuevas columnas**  \n",
    "\n",
    "En un análisis de datos real, puedes combinar estas operaciones para responder una gran variedad de preguntas.  \n",
    "\n",
    "### **Instrucciones**  \n",
    "Responde la siguiente pregunta utilizando tus nuevas habilidades con **Pandas**:  \n",
    "\n",
    "📌 **\"¿Cuál es el estado con el mayor número de personas sin hogar por cada 10,000 habitantes?\"**  "
   ]
  },
  {
   "cell_type": "markdown",
   "metadata": {},
   "source": [
    "**Pasos a seguir:**  \n",
    "\n",
    "1. **Agregar una nueva columna llamada `indiv_per_10k`**  \n",
    "   - Contendrá el número de personas sin hogar individuales por cada **10,000 habitantes** en cada estado.  \n",
    "\n",
    "2. **Filtrar las filas** donde `indiv_per_10k` sea **mayor que 20**  \n",
    "   - Guardar el resultado en un nuevo DataFrame llamado `high_homelessness`.  \n",
    "\n",
    "3. **Ordenar `high_homelessness`** en **orden descendente** por `indiv_per_10k`  \n",
    "   - Guardar el resultado en `high_homelessness_srt`.  \n",
    "\n",
    "4. **Seleccionar solo las columnas `state` y `indiv_per_10k`**  \n",
    "   - Guardar el resultado en un nuevo DataFrame llamado `result`.  \n",
    "   - **Visualizar el resultado**.  \n"
   ]
  },
  {
   "cell_type": "code",
   "execution_count": null,
   "metadata": {
    "vscode": {
     "languageId": "plaintext"
    }
   },
   "outputs": [],
   "source": [
    "# Escribe tu código "
   ]
  }
 ],
 "metadata": {
  "language_info": {
   "name": "python"
  }
 },
 "nbformat": 4,
 "nbformat_minor": 2
}
